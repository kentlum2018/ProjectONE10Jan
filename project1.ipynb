{
 "cells": [
  {
   "cell_type": "code",
   "execution_count": null,
   "metadata": {},
   "outputs": [],
   "source": [
    "#pull all 12 months data\n",
    "#using FordGO from the SF Bay area and includes 5 cities"
   ]
  },
  {
   "cell_type": "code",
   "execution_count": 1,
   "metadata": {},
   "outputs": [],
   "source": [
    "import zipfile, urllib.request, shutil\n",
    "import pandas as pd\n",
    "import numpy as np\n",
    "import glob\n",
    "import citipy\n",
    "import csv\n",
    "import os\n",
    "from uszipcode import SearchEngine, SimpleZipcode, Zipcode\n",
    "search = SearchEngine()\n",
    "import matplotlib.pyplot as plt\n",
    "import seaborn as sns\n",
    "from datetime import datetime\n",
    "import time\n",
    "import datetime\n"
   ]
  },
  {
   "cell_type": "code",
   "execution_count": 2,
   "metadata": {},
   "outputs": [],
   "source": [
    "#id the folder that has all the zip files\n",
    "#create a glob for the path and file names\n",
    "#create a empty list for holding everything \n",
    "path = r'C:\\Users\\Gogster\\Documents\\GitHub\\RawData'\n",
    "\n",
    "allfiles=glob.glob(path+\"/*.zip\")\n",
    "\n",
    "data_list=[]\n"
   ]
  },
  {
   "cell_type": "code",
   "execution_count": 3,
   "metadata": {},
   "outputs": [],
   "source": [
    "#list comprehend through the folder with all the zip files\n",
    "#append to the dataframe merging all the months\n",
    "\n",
    "for z_file in allfiles:\n",
    "    df=pd.read_csv(z_file, compression='zip',header=0,sep=',',quotechar='\"')\n",
    "    data_list.append(df)\n",
    "\n",
    "all_frame=pd.concat(data_list,axis=0,ignore_index=True)    "
   ]
  },
  {
   "cell_type": "code",
   "execution_count": null,
   "metadata": {},
   "outputs": [],
   "source": [
    "all_frame.head()"
   ]
  },
  {
   "cell_type": "code",
   "execution_count": null,
   "metadata": {},
   "outputs": [],
   "source": [
    "all_frame.shape\n",
    "#this is all the rows 1.863721M by 16"
   ]
  },
  {
   "cell_type": "code",
   "execution_count": 4,
   "metadata": {},
   "outputs": [],
   "source": [
    "#create 2 new rows 1 for the zip code and one for the city name\n",
    "#city \n",
    "all_frame.insert(loc=7, column='city', value='abc')\n",
    "#zip codes\n",
    "all_frame.insert(loc=8, column='zip_code', value='123456')\n",
    "#age in years of users\n",
    "all_frame.insert(loc=16, column='age', value ='99')"
   ]
  },
  {
   "cell_type": "code",
   "execution_count": null,
   "metadata": {},
   "outputs": [],
   "source": [
    "#display new table\n",
    "all_frame.head()"
   ]
  },
  {
   "cell_type": "code",
   "execution_count": 5,
   "metadata": {
    "scrolled": true
   },
   "outputs": [
    {
     "name": "stderr",
     "output_type": "stream",
     "text": [
      "C:\\Users\\Gogster\\Anaconda3\\lib\\site-packages\\pandas\\core\\frame.py:3697: SettingWithCopyWarning: \n",
      "A value is trying to be set on a copy of a slice from a DataFrame\n",
      "\n",
      "See the caveats in the documentation: http://pandas.pydata.org/pandas-docs/stable/indexing.html#indexing-view-versus-copy\n",
      "  errors=errors)\n"
     ]
    }
   ],
   "source": [
    "#remove rows which have Nan values\n",
    "drop_frame= all_frame.dropna(axis=0,how='any',inplace=False)\n",
    "#delete extra columns in the data that are not relavent\n",
    "drop_frame.drop(['bike_share_for_all_trip'],axis = 1, inplace = True)\n",
    "#display the dataframe\n",
    "#drop_frame.head()"
   ]
  },
  {
   "cell_type": "code",
   "execution_count": null,
   "metadata": {},
   "outputs": [],
   "source": [
    "drop_frame.shape\n",
    "# 1.741556 M and 18"
   ]
  },
  {
   "cell_type": "code",
   "execution_count": 7,
   "metadata": {},
   "outputs": [],
   "source": [
    "clean_df=pd.DataFrame(drop_frame)"
   ]
  },
  {
   "cell_type": "code",
   "execution_count": 8,
   "metadata": {},
   "outputs": [
    {
     "data": {
      "text/html": [
       "<div>\n",
       "<style scoped>\n",
       "    .dataframe tbody tr th:only-of-type {\n",
       "        vertical-align: middle;\n",
       "    }\n",
       "\n",
       "    .dataframe tbody tr th {\n",
       "        vertical-align: top;\n",
       "    }\n",
       "\n",
       "    .dataframe thead th {\n",
       "        text-align: right;\n",
       "    }\n",
       "</style>\n",
       "<table border=\"1\" class=\"dataframe\">\n",
       "  <thead>\n",
       "    <tr style=\"text-align: right;\">\n",
       "      <th></th>\n",
       "      <th>duration_sec</th>\n",
       "      <th>start_time</th>\n",
       "      <th>end_time</th>\n",
       "      <th>start_station_id</th>\n",
       "      <th>start_station_name</th>\n",
       "      <th>start_station_latitude</th>\n",
       "      <th>start_station_longitude</th>\n",
       "      <th>city</th>\n",
       "      <th>zip_code</th>\n",
       "      <th>end_station_id</th>\n",
       "      <th>end_station_name</th>\n",
       "      <th>end_station_latitude</th>\n",
       "      <th>end_station_longitude</th>\n",
       "      <th>bike_id</th>\n",
       "      <th>user_type</th>\n",
       "      <th>member_birth_year</th>\n",
       "      <th>age</th>\n",
       "      <th>member_gender</th>\n",
       "    </tr>\n",
       "  </thead>\n",
       "  <tbody>\n",
       "    <tr>\n",
       "      <th>0</th>\n",
       "      <td>75284</td>\n",
       "      <td>2018-01-31 22:52:35.2390</td>\n",
       "      <td>2018-02-01 19:47:19.8240</td>\n",
       "      <td>120.0</td>\n",
       "      <td>Mission Dolores Park</td>\n",
       "      <td>37.761420</td>\n",
       "      <td>-122.426435</td>\n",
       "      <td>abc</td>\n",
       "      <td>123456</td>\n",
       "      <td>285.0</td>\n",
       "      <td>Webster St at O'Farrell St</td>\n",
       "      <td>37.783521</td>\n",
       "      <td>-122.431158</td>\n",
       "      <td>2765</td>\n",
       "      <td>Subscriber</td>\n",
       "      <td>1986</td>\n",
       "      <td>33</td>\n",
       "      <td>Male</td>\n",
       "    </tr>\n",
       "    <tr>\n",
       "      <th>2</th>\n",
       "      <td>71576</td>\n",
       "      <td>2018-01-31 14:23:55.8890</td>\n",
       "      <td>2018-02-01 10:16:52.1160</td>\n",
       "      <td>304.0</td>\n",
       "      <td>Jackson St at 5th St</td>\n",
       "      <td>37.348759</td>\n",
       "      <td>-121.894798</td>\n",
       "      <td>abc</td>\n",
       "      <td>123456</td>\n",
       "      <td>296.0</td>\n",
       "      <td>5th St at Virginia St</td>\n",
       "      <td>37.325998</td>\n",
       "      <td>-121.877120</td>\n",
       "      <td>3039</td>\n",
       "      <td>Customer</td>\n",
       "      <td>1996</td>\n",
       "      <td>23</td>\n",
       "      <td>Male</td>\n",
       "    </tr>\n",
       "    <tr>\n",
       "      <th>4</th>\n",
       "      <td>39966</td>\n",
       "      <td>2018-01-31 19:52:24.6670</td>\n",
       "      <td>2018-02-01 06:58:31.0530</td>\n",
       "      <td>74.0</td>\n",
       "      <td>Laguna St at Hayes St</td>\n",
       "      <td>37.776435</td>\n",
       "      <td>-122.426244</td>\n",
       "      <td>abc</td>\n",
       "      <td>123456</td>\n",
       "      <td>19.0</td>\n",
       "      <td>Post St at Kearny St</td>\n",
       "      <td>37.788975</td>\n",
       "      <td>-122.403452</td>\n",
       "      <td>617</td>\n",
       "      <td>Subscriber</td>\n",
       "      <td>1991</td>\n",
       "      <td>28</td>\n",
       "      <td>Male</td>\n",
       "    </tr>\n",
       "    <tr>\n",
       "      <th>6</th>\n",
       "      <td>453</td>\n",
       "      <td>2018-01-31 23:53:53.6320</td>\n",
       "      <td>2018-02-01 00:01:26.8050</td>\n",
       "      <td>110.0</td>\n",
       "      <td>17th &amp; Folsom Street Park (17th St at Folsom St)</td>\n",
       "      <td>37.763708</td>\n",
       "      <td>-122.415204</td>\n",
       "      <td>abc</td>\n",
       "      <td>123456</td>\n",
       "      <td>134.0</td>\n",
       "      <td>Valencia St at 24th St</td>\n",
       "      <td>37.752428</td>\n",
       "      <td>-122.420628</td>\n",
       "      <td>3571</td>\n",
       "      <td>Subscriber</td>\n",
       "      <td>1988</td>\n",
       "      <td>31</td>\n",
       "      <td>Male</td>\n",
       "    </tr>\n",
       "    <tr>\n",
       "      <th>7</th>\n",
       "      <td>180</td>\n",
       "      <td>2018-01-31 23:52:09.9030</td>\n",
       "      <td>2018-01-31 23:55:10.8070</td>\n",
       "      <td>81.0</td>\n",
       "      <td>Berry St at 4th St</td>\n",
       "      <td>37.775880</td>\n",
       "      <td>-122.393170</td>\n",
       "      <td>abc</td>\n",
       "      <td>123456</td>\n",
       "      <td>93.0</td>\n",
       "      <td>4th St at Mission Bay Blvd S</td>\n",
       "      <td>37.770407</td>\n",
       "      <td>-122.391198</td>\n",
       "      <td>1403</td>\n",
       "      <td>Subscriber</td>\n",
       "      <td>1980</td>\n",
       "      <td>39</td>\n",
       "      <td>Male</td>\n",
       "    </tr>\n",
       "  </tbody>\n",
       "</table>\n",
       "</div>"
      ],
      "text/plain": [
       "   duration_sec                start_time                  end_time  \\\n",
       "0         75284  2018-01-31 22:52:35.2390  2018-02-01 19:47:19.8240   \n",
       "2         71576  2018-01-31 14:23:55.8890  2018-02-01 10:16:52.1160   \n",
       "4         39966  2018-01-31 19:52:24.6670  2018-02-01 06:58:31.0530   \n",
       "6           453  2018-01-31 23:53:53.6320  2018-02-01 00:01:26.8050   \n",
       "7           180  2018-01-31 23:52:09.9030  2018-01-31 23:55:10.8070   \n",
       "\n",
       "   start_station_id                                start_station_name  \\\n",
       "0             120.0                              Mission Dolores Park   \n",
       "2             304.0                              Jackson St at 5th St   \n",
       "4              74.0                             Laguna St at Hayes St   \n",
       "6             110.0  17th & Folsom Street Park (17th St at Folsom St)   \n",
       "7              81.0                                Berry St at 4th St   \n",
       "\n",
       "   start_station_latitude  start_station_longitude city zip_code  \\\n",
       "0               37.761420              -122.426435  abc   123456   \n",
       "2               37.348759              -121.894798  abc   123456   \n",
       "4               37.776435              -122.426244  abc   123456   \n",
       "6               37.763708              -122.415204  abc   123456   \n",
       "7               37.775880              -122.393170  abc   123456   \n",
       "\n",
       "   end_station_id              end_station_name  end_station_latitude  \\\n",
       "0           285.0    Webster St at O'Farrell St             37.783521   \n",
       "2           296.0         5th St at Virginia St             37.325998   \n",
       "4            19.0          Post St at Kearny St             37.788975   \n",
       "6           134.0        Valencia St at 24th St             37.752428   \n",
       "7            93.0  4th St at Mission Bay Blvd S             37.770407   \n",
       "\n",
       "   end_station_longitude  bike_id   user_type  member_birth_year  age  \\\n",
       "0            -122.431158     2765  Subscriber               1986   33   \n",
       "2            -121.877120     3039    Customer               1996   23   \n",
       "4            -122.403452      617  Subscriber               1991   28   \n",
       "6            -122.420628     3571  Subscriber               1988   31   \n",
       "7            -122.391198     1403  Subscriber               1980   39   \n",
       "\n",
       "  member_gender  \n",
       "0          Male  \n",
       "2          Male  \n",
       "4          Male  \n",
       "6          Male  \n",
       "7          Male  "
      ]
     },
     "execution_count": 8,
     "metadata": {},
     "output_type": "execute_result"
    }
   ],
   "source": [
    "#find age of user by subtracting birth year from current year\n",
    "thisyear=2019\n",
    "clean_df['age'] = thisyear - clean_df['member_birth_year']\n",
    "clean_df['age'] = clean_df['age'].astype(int)\n",
    "clean_df['member_birth_year'] = clean_df['member_birth_year'].astype(int)\n",
    "clean_df.head()"
   ]
  },
  {
   "cell_type": "code",
   "execution_count": 9,
   "metadata": {},
   "outputs": [
    {
     "data": {
      "text/plain": [
       "(1718882, 18)"
      ]
     },
     "execution_count": 9,
     "metadata": {},
     "output_type": "execute_result"
    }
   ],
   "source": [
    "max_age = 65\n",
    "# under65_df = drop_frame.loc[:, (drop_frame.isnull().sum(axis=0) <= max_age)]\n",
    "# under65_df.shape\n",
    "#did not work\n",
    "\n",
    "\n",
    "#Use this DF for all work- It holds all the users aged 19 to 65\n",
    "max_age_df = (clean_df[clean_df['age']<(max_age)])\n",
    "max_age_df.shape\n",
    "#1.71882M records"
   ]
  },
  {
   "cell_type": "code",
   "execution_count": 10,
   "metadata": {},
   "outputs": [],
   "source": [
    "clean_df=pd.DataFrame(max_age_df)\n",
    "# clean_df.head()"
   ]
  },
  {
   "cell_type": "code",
   "execution_count": null,
   "metadata": {},
   "outputs": [],
   "source": [
    "#clean_df.to_csv(\"clean_bike_data.csv\")"
   ]
  },
  {
   "cell_type": "code",
   "execution_count": 11,
   "metadata": {},
   "outputs": [
    {
     "name": "stdout",
     "output_type": "stream",
     "text": [
      "user_type\n",
      "Customer       197916\n",
      "Subscriber    1520966\n",
      "dtype: int64\n"
     ]
    }
   ],
   "source": [
    "#which users are consumers vs subscribers (user_type=Subscriber)\n",
    "s_grp_cnt= clean_df.groupby('user_type').size()\n",
    "print (s_grp_cnt)\n",
    "# 1.718882M and 18 col"
   ]
  },
  {
   "cell_type": "code",
   "execution_count": 12,
   "metadata": {},
   "outputs": [
    {
     "name": "stdout",
     "output_type": "stream",
     "text": [
      "member_gender\n",
      "Female     431825\n",
      "Male      1260551\n",
      "Other       26506\n",
      "dtype: int64\n"
     ]
    }
   ],
   "source": [
    "#group by the sex of the users\n",
    "# the cnt is correct here\n",
    "m_grp_cnt= clean_df.groupby('member_gender').size()\n",
    "print (m_grp_cnt)"
   ]
  },
  {
   "cell_type": "code",
   "execution_count": null,
   "metadata": {},
   "outputs": [],
   "source": [
    "# NOT NEEDED\n",
    "#gender_cnt_df=pd.DataFrame(m_grp_cnt)\n",
    "# gender_cnt_df.head()"
   ]
  },
  {
   "cell_type": "code",
   "execution_count": 13,
   "metadata": {},
   "outputs": [
    {
     "data": {
      "image/png": "[encoded data removed]",
      "text/plain": [
       "<Figure size 720x720 with 1 Axes>"
      ]
     },
     "metadata": {},
     "output_type": "display_data"
    }
   ],
   "source": [
    "# insert pie graph of gender percentages\n",
    "plt.title(\"Gender Percentage of Riders\")\n",
    "c_type=['Female','Male','Other']\n",
    "# c_perc=[urb_fare_per,rur_fare_per,sub_fare_per]\n",
    "colors = [\"lightcoral\",\"lightskyblue\",\"gold\"]\n",
    "explode = (0.05, 0.0, 0) \n",
    "plot = m_grp_cnt.plot.pie(y='member_gender',figsize=(10,10),explode=explode, labels=c_type, colors=colors,\n",
    "        autopct=\"%1.1f%%\", shadow=True, startangle=270,radius=1.2)\n",
    "plt.axis(\"equal\") \n",
    "plt.show()"
   ]
  },
  {
   "cell_type": "code",
   "execution_count": 14,
   "metadata": {
    "scrolled": true
   },
   "outputs": [
    {
     "data": {
      "text/plain": [
       "user_type   member_gender\n",
       "Customer    Female             62858\n",
       "            Male              131089\n",
       "            Other               3969\n",
       "Subscriber  Female            368967\n",
       "            Male             1129462\n",
       "            Other              22537\n",
       "dtype: int64"
      ]
     },
     "execution_count": 14,
     "metadata": {},
     "output_type": "execute_result"
    }
   ],
   "source": [
    "# drop_frame.query(float('member_birth_year') > float('1989.0') and user_type == 'Subsciber').groupby('Sex').count()\n",
    "#calc the number of customers and subscribers by gender\n",
    "\n",
    "cus_df = clean_df.groupby(['user_type','member_gender']).size()\n",
    "# cus_df.head(10)\n",
    "cus_df\n"
   ]
  },
  {
   "cell_type": "code",
   "execution_count": 15,
   "metadata": {},
   "outputs": [
    {
     "data": {
      "image/png": "[encoded data removed]",
      "text/plain": [
       "<Figure size 1080x1080 with 1 Axes>"
      ]
     },
     "metadata": {},
     "output_type": "display_data"
    }
   ],
   "source": [
    "explode = (0.05, 0.0, .05,1.0,1.0,100.0)\n",
    "plot = cus_df.plot.pie(y='member_gender',figsize=(15,15),autopct=\"%1.2f%%\", shadow=False, labeldistance=1.05,startangle=270,radius=1.2)\n",
    "plt.title(\"Gender and User Type\")\n",
    "# plt.pie(sizes, labels=labels, autopct='%1.0f%%', pctdistance=1.1, labeldistance=1.2)\n",
    "plt.show()"
   ]
  },
  {
   "cell_type": "code",
   "execution_count": 16,
   "metadata": {},
   "outputs": [],
   "source": [
    "#bin the data by age groups\n",
    "# Bins are 0, 60, 70, 80, 90, 100\n",
    "bins = [0, 22, 31, 38, 45, 55, 66, 100]\n",
    "\n",
    "# Create the names for the four bins\n",
    "group_names = [\"<21\", \"Early Millenial\", \"Late Millenial\", \"38-45\", \"46-55\",\"56-65\", \">65\"]"
   ]
  },
  {
   "cell_type": "code",
   "execution_count": 19,
   "metadata": {},
   "outputs": [],
   "source": [
    "# clean_df['age_grp'] = pd.cut(clean_df[\"age\"], bins, labels=group_names)\n",
    "# # age_df[\"age_bracket\"]= pd.cut(clean_df[\"age\"], bins, labels=group_names)\n",
    "# #age_df= age_df.groupby([user_type])\n",
    "# clean_df.head()\n",
    "# clean_df.shape\n",
    "\n",
    "clean_df['age_grp'] = pd.cut(clean_df[\"age\"], bins, labels=group_names)\n",
    "# age_df[\"age_bracket\"]= pd.cut(clean_df[\"age\"], bins, labels=group_names)\n",
    "clean_age_df= clean_df.groupby(['age_grp','user_type'])['age_grp'].count()"
   ]
  },
  {
   "cell_type": "code",
   "execution_count": 20,
   "metadata": {},
   "outputs": [
    {
     "data": {
      "text/plain": [
       "age_grp          user_type \n",
       "<21              Customer       13042\n",
       "                 Subscriber     51173\n",
       "Early Millenial  Customer       83843\n",
       "                 Subscriber    555025\n",
       "Late Millenial   Customer       52953\n",
       "                 Subscriber    435108\n",
       "38-45            Customer       23994\n",
       "                 Subscriber    228460\n",
       "46-55            Customer       18447\n",
       "                 Subscriber    177203\n",
       "56-65            Customer        5637\n",
       "                 Subscriber     73997\n",
       "Name: age_grp, dtype: int64"
      ]
     },
     "execution_count": 20,
     "metadata": {},
     "output_type": "execute_result"
    }
   ],
   "source": [
    "# clean_age_df=clean_df.groupby(['age_grp','user_type'])['age_grp'].count()\n",
    "clean_age_df\n",
    "# clean_age_df=pd.DataFrame(clean_age_df, index=False)"
   ]
  },
  {
   "cell_type": "code",
   "execution_count": 21,
   "metadata": {},
   "outputs": [
    {
     "data": {
      "text/plain": [
       "(12,)"
      ]
     },
     "execution_count": 21,
     "metadata": {},
     "output_type": "execute_result"
    }
   ],
   "source": [
    "clean_age_df.shape"
   ]
  },
  {
   "cell_type": "code",
   "execution_count": 22,
   "metadata": {},
   "outputs": [
    {
     "ename": "SyntaxError",
     "evalue": "invalid syntax (<ipython-input-22-36b8ddb18aa0>, line 14)",
     "output_type": "error",
     "traceback": [
      "\u001b[1;36m  File \u001b[1;32m\"<ipython-input-22-36b8ddb18aa0>\"\u001b[1;36m, line \u001b[1;32m14\u001b[0m\n\u001b[1;33m    ax.set_xlabel=\u001b[0m\n\u001b[1;37m                  ^\u001b[0m\n\u001b[1;31mSyntaxError\u001b[0m\u001b[1;31m:\u001b[0m invalid syntax\n"
     ]
    }
   ],
   "source": [
    "# #number of users by the age grps and make them stackin\n",
    "\n",
    "# #df2 = df.groupby(['Name', 'Abuse/NFF'])['Name'].count().unstack('Abuse/NFF').fillna(0)\n",
    "# clean_age_df[['user-type','age_grp']].plot(kind='bar', stacked=True)\n",
    "#plot = clean_age_df.plot.pie(y='age_grp',figsize=(5,5))\n",
    "#plot=clean_age_df.plot.bar(['user-type'] stacked=True)\n",
    "clean_age_df.plot(kind='bar',stacked=True) #works but lists it all out\n",
    "#does not work pivot_df= clean_age_df.df.pitot(index= 'age_grp', columns = 'user_type', values='user_type' )\n",
    "# plot_frame=clean_df.convert_objects(convert_numeric=True)\n",
    "#pd.crosstab(clean_age_df.user_type,clean_age_df.age_grp).plot.barh(stacked=False)\n",
    "# plot=clean_age_df.groupby(['age_grp','user_type'])['age_grp'].count().unstack('user_type').fillna(0)\n",
    "# plot[['age_grp','user_type']].plot(kind='bar', stacked= False)\n",
    "ax=clean_age_df[['age_grp','user_type']].plot(kind='bar',title='TITLE',figsize=(10,10),fontsize=12)\n",
    "ax.set_xlabel=\n",
    "plt.xticks(rotation=30)\n",
    "plt.legend(fontsize=18)\n",
    "plt.show()\n"
   ]
  },
  {
   "cell_type": "code",
   "execution_count": null,
   "metadata": {},
   "outputs": [],
   "source": [
    "clean_df['age'].describe()\n"
   ]
  },
  {
   "cell_type": "code",
   "execution_count": null,
   "metadata": {},
   "outputs": [],
   "source": [
    "# Find zipcodes using latitude and longitude coordinates"
   ]
  },
  {
   "cell_type": "code",
   "execution_count": null,
   "metadata": {},
   "outputs": [],
   "source": [
    "clean_small= clean_df.head(50)\n",
    "clean_small.shape"
   ]
  },
  {
   "cell_type": "code",
   "execution_count": null,
   "metadata": {},
   "outputs": [],
   "source": [
    "# Create an empty list to append the coordinate values to\n",
    "coordinates_list = []\n",
    "\n",
    "# Zip the columns \"start_station_latitude\" and \"start_station_longitude\" to return an iterator of tuples\n",
    "# Loop through each value in the columns using lat, lng\n",
    "for lat, lng  in zip(clean_small['start_station_latitude'], clean_small['start_station_longitude']):\n",
    "    #print(lat, lng)\n",
    "    # Find the lng, lat paired coordinates using search.by_coordinates() from the uszipcode dependency\n",
    "    # Set returns to 0 to return all of the coordinates in the lat,lng columns\n",
    "    # Set the radius to 100 to make sure to cover all of the zipcodes included in our database\n",
    "    coordinates = search.by_coordinates(lat=lat, lng=lng, radius=100, returns=0)\n",
    "    # Append the lat,lng coordinates to coordinates_list\n",
    "    coordinates_list.append(coordinates)"
   ]
  },
  {
   "cell_type": "code",
   "execution_count": null,
   "metadata": {},
   "outputs": [],
   "source": [
    "# Use a list comprehension to unpack the rest of the values in \"result\" so you can choose the zipcodes to add to the dataframe\n",
    "#old code zipcode = [coordinates_list[i][0].items()[0][1] for i, x in enumerate(coordinates_list)]\n",
    "zipcode = [coordinates_list[i][0].items()[0][1] for i, x in enumerate(coordinates_list)]\n",
    "# Assign the zipcode values to the zip_code column in the dataframe\n",
    "clean_small['zip_code'] = zipcode\n",
    "# Preview the first 5 rows of the updated dataframe to confirm that the changes were made properly\n",
    "clean_small.head()"
   ]
  },
  {
   "cell_type": "code",
   "execution_count": null,
   "metadata": {},
   "outputs": [],
   "source": [
    "# Calculate number of stations in each zip code\n",
    "\n",
    "# Create a new dataframe with the columns zip_code, start_station_id, and end_station_id. This will be used to calculate the\n",
    "# number of stations in each zip code\n",
    "station_count_df = clean_small[['zip_code', 'start_station_id', 'end_station_id']]\n",
    "# Display the first few rows to confirm that the dataframe was created properly\n",
    "station_count_df.head()"
   ]
  },
  {
   "cell_type": "code",
   "execution_count": null,
   "metadata": {},
   "outputs": [],
   "source": [
    "# Calculate number of cities in each zip code\n",
    "\n",
    "# Create an empty list to append the zip_code values to\n",
    "city_by_zip_list = []\n",
    "\n",
    "# Loop through the zip_code column using enumerate to return an iterable object\n",
    "for i, zipcodes in enumerate(clean_small['zip_code']):\n",
    "    print(i, zipcodes)\n",
    "     # Find the zip code values using search.by_zipcode() from the uszipcode dependency\n",
    "    city_by_zip = search.by_zipcode(zipcode=zipcodes)\n",
    "    # Append the zip code values to the city_by_zip_list\n",
    "    city_by_zip_list.append(city_by_zip)\n",
    " "
   ]
  },
  {
   "cell_type": "code",
   "execution_count": null,
   "metadata": {},
   "outputs": [],
   "source": [
    "# Set a variable, unique_count, to a groupby() object as a base for calculating the number of stations in each zip code\n",
    "# Pass the zip_code column into groupby to count the number of stations grouped by each unique zip code\n",
    "# Use .size() to return the total number of elements\n",
    "# Use .reset_index() to recalculate the index for each row based upon their position within the new DataFrame. This will\n",
    " # enable simpler referencing of rows in the future\n",
    "# Pass the name argument in .reset_index() to assign a name to the column that will hold the values for the number of stations\n",
    " # in each zip code\n",
    "unique_count = station_count_df.groupby('zip_code').size().reset_index(name='num_stations_by_zip')\n",
    "# Display the dataframe to make sure it was created properly\n",
    "unique_count"
   ]
  },
  {
   "cell_type": "code",
   "execution_count": null,
   "metadata": {},
   "outputs": [],
   "source": [
    "# Calculate the length of the station_count_df dataframe and the sum of the values in the num_stations_by_zip to make sure they\n",
    "# match\n",
    "print(len(station_count_df))\n",
    "print(unique_count['num_stations_by_zip'].sum())"
   ]
  },
  {
   "cell_type": "code",
   "execution_count": null,
   "metadata": {},
   "outputs": [],
   "source": [
    "#change starttime column to pandas datetime\n",
    "clean_df['start_time']=pd.to_datetime(clean_df['start_time'])\n",
    "#add a column for Month\n",
    "clean_df['month'] = clean_df['start_time'].dt.month\n",
    "#use groupby to find the number of rides per month\n",
    "total_rides_month = clean_df.groupby('month').start_time.count()\n",
    "total_rides_month"
   ]
  },
  {
   "cell_type": "code",
   "execution_count": null,
   "metadata": {},
   "outputs": [],
   "source": [
    "# subset the clean_df for female, male and other\n",
    "female_df=clean_df.loc[clean_df['member_gender'] == 'Female']\n",
    "male_df=clean_df.loc[clean_df['member_gender'] == 'Male']\n",
    "other_df=clean_df.loc[clean_df['member_gender'] == 'Other']\n",
    "# find the total numbers of rides  per month for each gender group\n",
    "total_rides_fmonth = female_df.groupby('month').start_time.count()\n",
    "total_rides_mmonth = male_df.groupby('month').start_time.count()\n",
    "total_rides_omonth = other_df.groupby('month').start_time.count()"
   ]
  },
  {
   "cell_type": "code",
   "execution_count": null,
   "metadata": {},
   "outputs": [],
   "source": [
    "#plot the graph for \"RIDES TAKEN PER MONTH\"\n",
    "plt.plot(total_rides_month,'b', label = \"All Rides\")\n",
    "plt.plot(total_rides_fmonth,'r', label = \"Rides by Females\")\n",
    "plt.plot(total_rides_mmonth,'g', label = \"Rides by Males\")\n",
    "plt.plot(total_rides_omonth,'y', label = \"Rides by Other\")\n",
    "plt.legend()\n",
    "plt.title('RIDES TAKEN PER MONTH')\n",
    "plt.xlabel(\"Month of the Year\")\n",
    "plt.ylabel(\"Number of Rides\")\n",
    "plt.show()"
   ]
  }
 ],
 "metadata": {
  "kernelspec": {
   "display_name": "Python 3",
   "language": "python",
   "name": "python3"
  },
  "language_info": {
   "codemirror_mode": {
    "name": "ipython",
    "version": 3
   },
   "file_extension": ".py",
   "mimetype": "text/x-python",
   "name": "python",
   "nbconvert_exporter": "python",
   "pygments_lexer": "ipython3",
   "version": "3.7.1"
  }
 },
 "nbformat": 4,
 "nbformat_minor": 2
}
