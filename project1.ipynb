{
 "cells": [
  {
   "cell_type": "code",
   "execution_count": null,
   "metadata": {},
   "outputs": [],
   "source": [
    "#pull all 12 months data\n",
    "#using FordGO from the SF Bay area and includes 5 cities"
   ]
  },
  {
   "cell_type": "code",
   "execution_count": 1,
   "metadata": {},
   "outputs": [],
   "source": [
    "import zipfile, urllib.request, shutil\n",
    "import pandas as pd\n",
    "import numpy as np\n",
    "import glob\n",
    "import citipy\n",
    "import csv\n",
    "import os\n",
    "import openweathermapy\n",
    "from uszipcode import Zipcode\n",
    "import matplotlib.pyplot as plt\n"
   ]
  },
  {
   "cell_type": "code",
   "execution_count": 2,
   "metadata": {},
   "outputs": [],
   "source": [
    "#id the folder that has all the zip files\n",
    "#create a glob for the path and file names\n",
    "#create a empty list for holding everything \n",
    "path = r'C:\\Users\\Gogster\\Documents\\GitHub\\RawData'\n",
    "#path=r'../RawData'\n",
    "allfiles=glob.glob(path+\"/*.zip\")\n",
    "\n",
    "data_list=[]\n"
   ]
  },
  {
   "cell_type": "code",
   "execution_count": null,
   "metadata": {},
   "outputs": [],
   "source": [
    "# zip_list=[201801-fordgobike-tripdata.csv.zip,\n",
    "#           201802-fordgobike-tripdata.csv.zip,\n",
    "#           201803-fordgobike-tripdata.csv.zip,\n",
    "#           201804-fordgobike-tripdata.csv.zip,\n",
    "#          201805-fordgobike-tripdata.csv.zip,\n",
    "#          201806-fordgobike-tripdata.csv.zip,\n",
    "#          201807-fordgobike-tripdata.csv.zip,\n",
    "#          201808-fordgobike-tripdata.csv.zip,\n",
    "#          201809-fordgobike-tripdata.csv.zip,\n",
    "#          2018010-fordgobike-tripdata.csv.zip,\n",
    "#          2018011-fordgobike-tripdata.csv.zip,\n",
    "#          2018012-fordgobike-tripdata.csv.zip]"
   ]
  },
  {
   "cell_type": "code",
   "execution_count": 3,
   "metadata": {},
   "outputs": [],
   "source": [
    "#list comprehend through the folder with all the zip files\n",
    "#append to the dataframe merging all the months\n",
    "\n",
    "for z_file in allfiles:\n",
    "    df=pd.read_csv(z_file, compression='zip',header=0,sep=',',quotechar='\"')\n",
    "    data_list.append(df)\n",
    "\n",
    "all_frame=pd.concat(data_list,axis=0,ignore_index=True)    "
   ]
  },
  {
   "cell_type": "code",
   "execution_count": null,
   "metadata": {},
   "outputs": [],
   "source": [
    "all_frame.head()"
   ]
  },
  {
   "cell_type": "code",
   "execution_count": null,
   "metadata": {},
   "outputs": [],
   "source": [
    "all_frame.shape\n",
    "#this is all the rows 1.863721M by 16"
   ]
  },
  {
   "cell_type": "code",
   "execution_count": 4,
   "metadata": {},
   "outputs": [],
   "source": [
    "#create 2 new rows 1 for the zip code and one for the city name\n",
    "#city \n",
    "all_frame.insert(loc=7, column='city', value='abc')\n",
    "#zip codes\n",
    "all_frame.insert(loc=8, column='zip_code', value='123456')\n",
    "#age in years of users\n",
    "all_frame.insert(loc=16, column='age', value ='99')"
   ]
  },
  {
   "cell_type": "code",
   "execution_count": null,
   "metadata": {},
   "outputs": [],
   "source": [
    "#display new table\n",
    "all_frame.head()"
   ]
  },
  {
   "cell_type": "code",
   "execution_count": 5,
   "metadata": {
    "scrolled": true
   },
   "outputs": [
    {
     "name": "stderr",
     "output_type": "stream",
     "text": [
      "C:\\Users\\Gogster\\Anaconda3\\lib\\site-packages\\pandas\\core\\frame.py:3697: SettingWithCopyWarning: \n",
      "A value is trying to be set on a copy of a slice from a DataFrame\n",
      "\n",
      "See the caveats in the documentation: http://pandas.pydata.org/pandas-docs/stable/indexing.html#indexing-view-versus-copy\n",
      "  errors=errors)\n"
     ]
    }
   ],
   "source": [
    "#remove rows which have Nan values\n",
    "drop_frame= all_frame.dropna(axis=0,how='any',inplace=False)\n",
    "#delete extra columns in the data that are not relavent\n",
    "drop_frame.drop(['bike_share_for_all_trip'],axis = 1, inplace = True)\n",
    "#display the dataframe\n",
    "#drop_frame.head()"
   ]
  },
  {
   "cell_type": "code",
   "execution_count": null,
   "metadata": {},
   "outputs": [],
   "source": [
    "drop_frame.shape\n",
    "# 1.741556 M and 18 col WAS"
   ]
  },
  {
   "cell_type": "code",
   "execution_count": 6,
   "metadata": {},
   "outputs": [],
   "source": [
    "clean_df=pd.DataFrame(drop_frame)"
   ]
  },
  {
   "cell_type": "code",
   "execution_count": 7,
   "metadata": {},
   "outputs": [
    {
     "data": {
      "text/html": [
       "<div>\n",
       "<style scoped>\n",
       "    .dataframe tbody tr th:only-of-type {\n",
       "        vertical-align: middle;\n",
       "    }\n",
       "\n",
       "    .dataframe tbody tr th {\n",
       "        vertical-align: top;\n",
       "    }\n",
       "\n",
       "    .dataframe thead th {\n",
       "        text-align: right;\n",
       "    }\n",
       "</style>\n",
       "<table border=\"1\" class=\"dataframe\">\n",
       "  <thead>\n",
       "    <tr style=\"text-align: right;\">\n",
       "      <th></th>\n",
       "      <th>duration_sec</th>\n",
       "      <th>start_time</th>\n",
       "      <th>end_time</th>\n",
       "      <th>start_station_id</th>\n",
       "      <th>start_station_name</th>\n",
       "      <th>start_station_latitude</th>\n",
       "      <th>start_station_longitude</th>\n",
       "      <th>city</th>\n",
       "      <th>zip_code</th>\n",
       "      <th>end_station_id</th>\n",
       "      <th>end_station_name</th>\n",
       "      <th>end_station_latitude</th>\n",
       "      <th>end_station_longitude</th>\n",
       "      <th>bike_id</th>\n",
       "      <th>user_type</th>\n",
       "      <th>member_birth_year</th>\n",
       "      <th>age</th>\n",
       "      <th>member_gender</th>\n",
       "    </tr>\n",
       "  </thead>\n",
       "  <tbody>\n",
       "    <tr>\n",
       "      <th>0</th>\n",
       "      <td>75284</td>\n",
       "      <td>2018-01-31 22:52:35.2390</td>\n",
       "      <td>2018-02-01 19:47:19.8240</td>\n",
       "      <td>120.0</td>\n",
       "      <td>Mission Dolores Park</td>\n",
       "      <td>37.761420</td>\n",
       "      <td>-122.426435</td>\n",
       "      <td>abc</td>\n",
       "      <td>123456</td>\n",
       "      <td>285.0</td>\n",
       "      <td>Webster St at O'Farrell St</td>\n",
       "      <td>37.783521</td>\n",
       "      <td>-122.431158</td>\n",
       "      <td>2765</td>\n",
       "      <td>Subscriber</td>\n",
       "      <td>1986</td>\n",
       "      <td>33</td>\n",
       "      <td>Male</td>\n",
       "    </tr>\n",
       "    <tr>\n",
       "      <th>2</th>\n",
       "      <td>71576</td>\n",
       "      <td>2018-01-31 14:23:55.8890</td>\n",
       "      <td>2018-02-01 10:16:52.1160</td>\n",
       "      <td>304.0</td>\n",
       "      <td>Jackson St at 5th St</td>\n",
       "      <td>37.348759</td>\n",
       "      <td>-121.894798</td>\n",
       "      <td>abc</td>\n",
       "      <td>123456</td>\n",
       "      <td>296.0</td>\n",
       "      <td>5th St at Virginia St</td>\n",
       "      <td>37.325998</td>\n",
       "      <td>-121.877120</td>\n",
       "      <td>3039</td>\n",
       "      <td>Customer</td>\n",
       "      <td>1996</td>\n",
       "      <td>23</td>\n",
       "      <td>Male</td>\n",
       "    </tr>\n",
       "    <tr>\n",
       "      <th>4</th>\n",
       "      <td>39966</td>\n",
       "      <td>2018-01-31 19:52:24.6670</td>\n",
       "      <td>2018-02-01 06:58:31.0530</td>\n",
       "      <td>74.0</td>\n",
       "      <td>Laguna St at Hayes St</td>\n",
       "      <td>37.776435</td>\n",
       "      <td>-122.426244</td>\n",
       "      <td>abc</td>\n",
       "      <td>123456</td>\n",
       "      <td>19.0</td>\n",
       "      <td>Post St at Kearny St</td>\n",
       "      <td>37.788975</td>\n",
       "      <td>-122.403452</td>\n",
       "      <td>617</td>\n",
       "      <td>Subscriber</td>\n",
       "      <td>1991</td>\n",
       "      <td>28</td>\n",
       "      <td>Male</td>\n",
       "    </tr>\n",
       "    <tr>\n",
       "      <th>6</th>\n",
       "      <td>453</td>\n",
       "      <td>2018-01-31 23:53:53.6320</td>\n",
       "      <td>2018-02-01 00:01:26.8050</td>\n",
       "      <td>110.0</td>\n",
       "      <td>17th &amp; Folsom Street Park (17th St at Folsom St)</td>\n",
       "      <td>37.763708</td>\n",
       "      <td>-122.415204</td>\n",
       "      <td>abc</td>\n",
       "      <td>123456</td>\n",
       "      <td>134.0</td>\n",
       "      <td>Valencia St at 24th St</td>\n",
       "      <td>37.752428</td>\n",
       "      <td>-122.420628</td>\n",
       "      <td>3571</td>\n",
       "      <td>Subscriber</td>\n",
       "      <td>1988</td>\n",
       "      <td>31</td>\n",
       "      <td>Male</td>\n",
       "    </tr>\n",
       "    <tr>\n",
       "      <th>7</th>\n",
       "      <td>180</td>\n",
       "      <td>2018-01-31 23:52:09.9030</td>\n",
       "      <td>2018-01-31 23:55:10.8070</td>\n",
       "      <td>81.0</td>\n",
       "      <td>Berry St at 4th St</td>\n",
       "      <td>37.775880</td>\n",
       "      <td>-122.393170</td>\n",
       "      <td>abc</td>\n",
       "      <td>123456</td>\n",
       "      <td>93.0</td>\n",
       "      <td>4th St at Mission Bay Blvd S</td>\n",
       "      <td>37.770407</td>\n",
       "      <td>-122.391198</td>\n",
       "      <td>1403</td>\n",
       "      <td>Subscriber</td>\n",
       "      <td>1980</td>\n",
       "      <td>39</td>\n",
       "      <td>Male</td>\n",
       "    </tr>\n",
       "  </tbody>\n",
       "</table>\n",
       "</div>"
      ],
      "text/plain": [
       "   duration_sec                start_time                  end_time  \\\n",
       "0         75284  2018-01-31 22:52:35.2390  2018-02-01 19:47:19.8240   \n",
       "2         71576  2018-01-31 14:23:55.8890  2018-02-01 10:16:52.1160   \n",
       "4         39966  2018-01-31 19:52:24.6670  2018-02-01 06:58:31.0530   \n",
       "6           453  2018-01-31 23:53:53.6320  2018-02-01 00:01:26.8050   \n",
       "7           180  2018-01-31 23:52:09.9030  2018-01-31 23:55:10.8070   \n",
       "\n",
       "   start_station_id                                start_station_name  \\\n",
       "0             120.0                              Mission Dolores Park   \n",
       "2             304.0                              Jackson St at 5th St   \n",
       "4              74.0                             Laguna St at Hayes St   \n",
       "6             110.0  17th & Folsom Street Park (17th St at Folsom St)   \n",
       "7              81.0                                Berry St at 4th St   \n",
       "\n",
       "   start_station_latitude  start_station_longitude city zip_code  \\\n",
       "0               37.761420              -122.426435  abc   123456   \n",
       "2               37.348759              -121.894798  abc   123456   \n",
       "4               37.776435              -122.426244  abc   123456   \n",
       "6               37.763708              -122.415204  abc   123456   \n",
       "7               37.775880              -122.393170  abc   123456   \n",
       "\n",
       "   end_station_id              end_station_name  end_station_latitude  \\\n",
       "0           285.0    Webster St at O'Farrell St             37.783521   \n",
       "2           296.0         5th St at Virginia St             37.325998   \n",
       "4            19.0          Post St at Kearny St             37.788975   \n",
       "6           134.0        Valencia St at 24th St             37.752428   \n",
       "7            93.0  4th St at Mission Bay Blvd S             37.770407   \n",
       "\n",
       "   end_station_longitude  bike_id   user_type  member_birth_year  age  \\\n",
       "0            -122.431158     2765  Subscriber               1986   33   \n",
       "2            -121.877120     3039    Customer               1996   23   \n",
       "4            -122.403452      617  Subscriber               1991   28   \n",
       "6            -122.420628     3571  Subscriber               1988   31   \n",
       "7            -122.391198     1403  Subscriber               1980   39   \n",
       "\n",
       "  member_gender  \n",
       "0          Male  \n",
       "2          Male  \n",
       "4          Male  \n",
       "6          Male  \n",
       "7          Male  "
      ]
     },
     "execution_count": 7,
     "metadata": {},
     "output_type": "execute_result"
    }
   ],
   "source": [
    "#find age of user by subtracting birth year from current year\n",
    "thisyear=2019\n",
    "clean_df['age'] = thisyear - clean_df['member_birth_year']\n",
    "clean_df['age'] = clean_df['age'].astype(int)\n",
    "clean_df['member_birth_year'] = clean_df['member_birth_year'].astype(int)\n",
    "clean_df.head()"
   ]
  },
  {
   "cell_type": "code",
   "execution_count": 8,
   "metadata": {},
   "outputs": [
    {
     "data": {
      "text/plain": [
       "(1718882, 18)"
      ]
     },
     "execution_count": 8,
     "metadata": {},
     "output_type": "execute_result"
    }
   ],
   "source": [
    "max_age = 65\n",
    "# under65_df = drop_frame.loc[:, (drop_frame.isnull().sum(axis=0) <= max_age)]\n",
    "# under65_df.shape\n",
    "#did not work\n",
    "\n",
    "\n",
    "#Use this DF for all work- It holds all the users aged 19 to 65\n",
    "max_age_df = (clean_df[clean_df['age']<(max_age)])\n",
    "max_age_df.shape\n",
    "#1.71882M records"
   ]
  },
  {
   "cell_type": "code",
   "execution_count": 34,
   "metadata": {},
   "outputs": [
    {
     "data": {
      "text/html": [
       "<div>\n",
       "<style scoped>\n",
       "    .dataframe tbody tr th:only-of-type {\n",
       "        vertical-align: middle;\n",
       "    }\n",
       "\n",
       "    .dataframe tbody tr th {\n",
       "        vertical-align: top;\n",
       "    }\n",
       "\n",
       "    .dataframe thead th {\n",
       "        text-align: right;\n",
       "    }\n",
       "</style>\n",
       "<table border=\"1\" class=\"dataframe\">\n",
       "  <thead>\n",
       "    <tr style=\"text-align: right;\">\n",
       "      <th></th>\n",
       "      <th>duration_sec</th>\n",
       "      <th>start_time</th>\n",
       "      <th>end_time</th>\n",
       "      <th>start_station_id</th>\n",
       "      <th>start_station_name</th>\n",
       "      <th>start_station_latitude</th>\n",
       "      <th>start_station_longitude</th>\n",
       "      <th>city</th>\n",
       "      <th>zip_code</th>\n",
       "      <th>end_station_id</th>\n",
       "      <th>end_station_name</th>\n",
       "      <th>end_station_latitude</th>\n",
       "      <th>end_station_longitude</th>\n",
       "      <th>bike_id</th>\n",
       "      <th>user_type</th>\n",
       "      <th>member_birth_year</th>\n",
       "      <th>age</th>\n",
       "      <th>member_gender</th>\n",
       "    </tr>\n",
       "  </thead>\n",
       "  <tbody>\n",
       "    <tr>\n",
       "      <th>0</th>\n",
       "      <td>75284</td>\n",
       "      <td>2018-01-31 22:52:35.2390</td>\n",
       "      <td>2018-02-01 19:47:19.8240</td>\n",
       "      <td>120.0</td>\n",
       "      <td>Mission Dolores Park</td>\n",
       "      <td>37.761420</td>\n",
       "      <td>-122.426435</td>\n",
       "      <td>abc</td>\n",
       "      <td>123456</td>\n",
       "      <td>285.0</td>\n",
       "      <td>Webster St at O'Farrell St</td>\n",
       "      <td>37.783521</td>\n",
       "      <td>-122.431158</td>\n",
       "      <td>2765</td>\n",
       "      <td>Subscriber</td>\n",
       "      <td>1986</td>\n",
       "      <td>33</td>\n",
       "      <td>Male</td>\n",
       "    </tr>\n",
       "    <tr>\n",
       "      <th>2</th>\n",
       "      <td>71576</td>\n",
       "      <td>2018-01-31 14:23:55.8890</td>\n",
       "      <td>2018-02-01 10:16:52.1160</td>\n",
       "      <td>304.0</td>\n",
       "      <td>Jackson St at 5th St</td>\n",
       "      <td>37.348759</td>\n",
       "      <td>-121.894798</td>\n",
       "      <td>abc</td>\n",
       "      <td>123456</td>\n",
       "      <td>296.0</td>\n",
       "      <td>5th St at Virginia St</td>\n",
       "      <td>37.325998</td>\n",
       "      <td>-121.877120</td>\n",
       "      <td>3039</td>\n",
       "      <td>Customer</td>\n",
       "      <td>1996</td>\n",
       "      <td>23</td>\n",
       "      <td>Male</td>\n",
       "    </tr>\n",
       "    <tr>\n",
       "      <th>4</th>\n",
       "      <td>39966</td>\n",
       "      <td>2018-01-31 19:52:24.6670</td>\n",
       "      <td>2018-02-01 06:58:31.0530</td>\n",
       "      <td>74.0</td>\n",
       "      <td>Laguna St at Hayes St</td>\n",
       "      <td>37.776435</td>\n",
       "      <td>-122.426244</td>\n",
       "      <td>abc</td>\n",
       "      <td>123456</td>\n",
       "      <td>19.0</td>\n",
       "      <td>Post St at Kearny St</td>\n",
       "      <td>37.788975</td>\n",
       "      <td>-122.403452</td>\n",
       "      <td>617</td>\n",
       "      <td>Subscriber</td>\n",
       "      <td>1991</td>\n",
       "      <td>28</td>\n",
       "      <td>Male</td>\n",
       "    </tr>\n",
       "    <tr>\n",
       "      <th>6</th>\n",
       "      <td>453</td>\n",
       "      <td>2018-01-31 23:53:53.6320</td>\n",
       "      <td>2018-02-01 00:01:26.8050</td>\n",
       "      <td>110.0</td>\n",
       "      <td>17th &amp; Folsom Street Park (17th St at Folsom St)</td>\n",
       "      <td>37.763708</td>\n",
       "      <td>-122.415204</td>\n",
       "      <td>abc</td>\n",
       "      <td>123456</td>\n",
       "      <td>134.0</td>\n",
       "      <td>Valencia St at 24th St</td>\n",
       "      <td>37.752428</td>\n",
       "      <td>-122.420628</td>\n",
       "      <td>3571</td>\n",
       "      <td>Subscriber</td>\n",
       "      <td>1988</td>\n",
       "      <td>31</td>\n",
       "      <td>Male</td>\n",
       "    </tr>\n",
       "    <tr>\n",
       "      <th>7</th>\n",
       "      <td>180</td>\n",
       "      <td>2018-01-31 23:52:09.9030</td>\n",
       "      <td>2018-01-31 23:55:10.8070</td>\n",
       "      <td>81.0</td>\n",
       "      <td>Berry St at 4th St</td>\n",
       "      <td>37.775880</td>\n",
       "      <td>-122.393170</td>\n",
       "      <td>abc</td>\n",
       "      <td>123456</td>\n",
       "      <td>93.0</td>\n",
       "      <td>4th St at Mission Bay Blvd S</td>\n",
       "      <td>37.770407</td>\n",
       "      <td>-122.391198</td>\n",
       "      <td>1403</td>\n",
       "      <td>Subscriber</td>\n",
       "      <td>1980</td>\n",
       "      <td>39</td>\n",
       "      <td>Male</td>\n",
       "    </tr>\n",
       "  </tbody>\n",
       "</table>\n",
       "</div>"
      ],
      "text/plain": [
       "   duration_sec                start_time                  end_time  \\\n",
       "0         75284  2018-01-31 22:52:35.2390  2018-02-01 19:47:19.8240   \n",
       "2         71576  2018-01-31 14:23:55.8890  2018-02-01 10:16:52.1160   \n",
       "4         39966  2018-01-31 19:52:24.6670  2018-02-01 06:58:31.0530   \n",
       "6           453  2018-01-31 23:53:53.6320  2018-02-01 00:01:26.8050   \n",
       "7           180  2018-01-31 23:52:09.9030  2018-01-31 23:55:10.8070   \n",
       "\n",
       "   start_station_id                                start_station_name  \\\n",
       "0             120.0                              Mission Dolores Park   \n",
       "2             304.0                              Jackson St at 5th St   \n",
       "4              74.0                             Laguna St at Hayes St   \n",
       "6             110.0  17th & Folsom Street Park (17th St at Folsom St)   \n",
       "7              81.0                                Berry St at 4th St   \n",
       "\n",
       "   start_station_latitude  start_station_longitude city zip_code  \\\n",
       "0               37.761420              -122.426435  abc   123456   \n",
       "2               37.348759              -121.894798  abc   123456   \n",
       "4               37.776435              -122.426244  abc   123456   \n",
       "6               37.763708              -122.415204  abc   123456   \n",
       "7               37.775880              -122.393170  abc   123456   \n",
       "\n",
       "   end_station_id              end_station_name  end_station_latitude  \\\n",
       "0           285.0    Webster St at O'Farrell St             37.783521   \n",
       "2           296.0         5th St at Virginia St             37.325998   \n",
       "4            19.0          Post St at Kearny St             37.788975   \n",
       "6           134.0        Valencia St at 24th St             37.752428   \n",
       "7            93.0  4th St at Mission Bay Blvd S             37.770407   \n",
       "\n",
       "   end_station_longitude  bike_id   user_type  member_birth_year  age  \\\n",
       "0            -122.431158     2765  Subscriber               1986   33   \n",
       "2            -121.877120     3039    Customer               1996   23   \n",
       "4            -122.403452      617  Subscriber               1991   28   \n",
       "6            -122.420628     3571  Subscriber               1988   31   \n",
       "7            -122.391198     1403  Subscriber               1980   39   \n",
       "\n",
       "  member_gender  \n",
       "0          Male  \n",
       "2          Male  \n",
       "4          Male  \n",
       "6          Male  \n",
       "7          Male  "
      ]
     },
     "execution_count": 34,
     "metadata": {},
     "output_type": "execute_result"
    }
   ],
   "source": [
    "clean_df=pd.DataFrame(max_age_df)\n",
    "clean_df.head()"
   ]
  },
  {
   "cell_type": "code",
   "execution_count": null,
   "metadata": {},
   "outputs": [],
   "source": [
    "#clean_df.to_csv(\"clean_bike_data.csv\")"
   ]
  },
  {
   "cell_type": "code",
   "execution_count": null,
   "metadata": {},
   "outputs": [],
   "source": [
    "#interate through the df and pull out the lat/lng to plug into function search.by_coordinates"
   ]
  },
  {
   "cell_type": "code",
   "execution_count": null,
   "metadata": {},
   "outputs": [],
   "source": [
    "#zip code vs number of stations"
   ]
  },
  {
   "cell_type": "code",
   "execution_count": 10,
   "metadata": {},
   "outputs": [
    {
     "name": "stdout",
     "output_type": "stream",
     "text": [
      "user_type\n",
      "Customer       197916\n",
      "Subscriber    1520966\n",
      "dtype: int64\n"
     ]
    }
   ],
   "source": [
    "#which users are consumers vs subscribers (user_type=Subscriber)\n",
    "s_grp_cnt= clean_df.groupby('user_type').size()\n",
    "print (s_grp_cnt)\n",
    "# 1.718882M and 18 col"
   ]
  },
  {
   "cell_type": "code",
   "execution_count": 11,
   "metadata": {},
   "outputs": [
    {
     "name": "stdout",
     "output_type": "stream",
     "text": [
      "member_gender\n",
      "Female     431825\n",
      "Male      1260551\n",
      "Other       26506\n",
      "dtype: int64\n"
     ]
    }
   ],
   "source": [
    "#group by the sex of the users\n",
    "# the cnt is correct here\n",
    "m_grp_cnt= clean_df.groupby('member_gender').size()\n",
    "print (m_grp_cnt)"
   ]
  },
  {
   "cell_type": "code",
   "execution_count": 25,
   "metadata": {},
   "outputs": [],
   "source": [
    "# NOT NEEDED\n",
    "#gender_cnt_df=pd.DataFrame(m_grp_cnt)\n",
    "# gender_cnt_df.head()"
   ]
  },
  {
   "cell_type": "code",
   "execution_count": 23,
   "metadata": {},
   "outputs": [
    {
     "data": {
      "image/png": "[encoded data removed]",
      "text/plain": [
       "<Figure size 360x360 with 1 Axes>"
      ]
     },
     "metadata": {},
     "output_type": "display_data"
    }
   ],
   "source": [
    "# insert pie graph of gender percentages\n",
    "\n",
    "plot = m_grp_cnt.plot.pie(y='member_gender',figsize=(5,5))\n",
    "plt.show()"
   ]
  },
  {
   "cell_type": "code",
   "execution_count": 41,
   "metadata": {
    "scrolled": true
   },
   "outputs": [
    {
     "data": {
      "text/plain": [
       "user_type   member_gender\n",
       "Customer    Female             62858\n",
       "            Male              131089\n",
       "            Other               3969\n",
       "Subscriber  Female            368967\n",
       "            Male             1129462\n",
       "            Other              22537\n",
       "dtype: int64"
      ]
     },
     "execution_count": 41,
     "metadata": {},
     "output_type": "execute_result"
    }
   ],
   "source": [
    "# drop_frame.query(float('member_birth_year') > float('1989.0') and user_type == 'Subsciber').groupby('Sex').count()\n",
    "#calc the number of customers and subscribers by gender\n",
    "#WRONG COUNT\n",
    "cus_df = clean_df.groupby(['user_type','member_gender']).size()\n",
    "# cus_df.head(10)\n",
    "cus_df\n"
   ]
  },
  {
   "cell_type": "code",
   "execution_count": 42,
   "metadata": {},
   "outputs": [
    {
     "data": {
      "image/png": "[encoded data removed]",
      "text/plain": [
       "<Figure size 360x360 with 1 Axes>"
      ]
     },
     "metadata": {},
     "output_type": "display_data"
    }
   ],
   "source": [
    "plot = cus_df.plot.pie(y='member_gender',figsize=(5,5))\n",
    "plt.show()"
   ]
  },
  {
   "cell_type": "code",
   "execution_count": 45,
   "metadata": {},
   "outputs": [
    {
     "data": {
      "text/plain": [
       "user_type   member_gender  age\n",
       "Customer    Female         19      481\n",
       "                           20     1323\n",
       "                           21     1293\n",
       "                           22     1581\n",
       "                           23     2037\n",
       "                           24     2612\n",
       "                           25     2991\n",
       "                           26     3169\n",
       "                           27     3610\n",
       "                           28     3217\n",
       "                           29     3673\n",
       "                           30     3790\n",
       "                           31     5158\n",
       "                           32     3178\n",
       "                           33     2966\n",
       "                           34     2307\n",
       "                           35     2029\n",
       "                           36     2205\n",
       "                           37     1528\n",
       "                           38     1374\n",
       "                           39     1255\n",
       "                           40     1219\n",
       "                           41      862\n",
       "                           42      759\n",
       "                           43      608\n",
       "                           44      633\n",
       "                           45      643\n",
       "                           46      638\n",
       "                           47      489\n",
       "                           48      475\n",
       "                                  ... \n",
       "Subscriber  Other          33      514\n",
       "                           34      968\n",
       "                           35     1170\n",
       "                           36     1319\n",
       "                           37      673\n",
       "                           38      455\n",
       "                           39     1499\n",
       "                           40      841\n",
       "                           41      720\n",
       "                           42      228\n",
       "                           43     1039\n",
       "                           44      387\n",
       "                           45      339\n",
       "                           46      454\n",
       "                           47       33\n",
       "                           48      148\n",
       "                           49      586\n",
       "                           50       62\n",
       "                           51      445\n",
       "                           52      623\n",
       "                           53      113\n",
       "                           54       55\n",
       "                           56      269\n",
       "                           57      322\n",
       "                           59      165\n",
       "                           60       91\n",
       "                           61       17\n",
       "                           62       46\n",
       "                           63       34\n",
       "                           64        2\n",
       "Length: 272, dtype: int64"
      ]
     },
     "execution_count": 45,
     "metadata": {},
     "output_type": "execute_result"
    }
   ],
   "source": [
    "cus_age_df = clean_df.groupby(['user_type','member_gender','age']).size()\n",
    "# cus_df.head(10)\n",
    "cus_age_df"
   ]
  },
  {
   "cell_type": "code",
   "execution_count": 49,
   "metadata": {},
   "outputs": [
    {
     "data": {
      "image/png": "[encoded data removed]",
      "text/plain": [
       "<Figure size 360x360 with 1 Axes>"
      ]
     },
     "metadata": {},
     "output_type": "display_data"
    }
   ],
   "source": [
    "plot = cus_age_df.plot.pie(y='member_gender',figsize=(5,5))\n",
    "plt.show()\n",
    "#need to bin this"
   ]
  },
  {
   "cell_type": "code",
   "execution_count": 24,
   "metadata": {},
   "outputs": [
    {
     "data": {
      "text/html": [
       "<div>\n",
       "<style scoped>\n",
       "    .dataframe tbody tr th:only-of-type {\n",
       "        vertical-align: middle;\n",
       "    }\n",
       "\n",
       "    .dataframe tbody tr th {\n",
       "        vertical-align: top;\n",
       "    }\n",
       "\n",
       "    .dataframe thead th {\n",
       "        text-align: right;\n",
       "    }\n",
       "</style>\n",
       "<table border=\"1\" class=\"dataframe\">\n",
       "  <thead>\n",
       "    <tr style=\"text-align: right;\">\n",
       "      <th></th>\n",
       "      <th>duration_sec</th>\n",
       "      <th>start_time</th>\n",
       "      <th>end_time</th>\n",
       "      <th>start_station_id</th>\n",
       "      <th>start_station_name</th>\n",
       "      <th>start_station_latitude</th>\n",
       "      <th>start_station_longitude</th>\n",
       "      <th>city</th>\n",
       "      <th>zip_code</th>\n",
       "      <th>end_station_id</th>\n",
       "      <th>end_station_name</th>\n",
       "      <th>end_station_latitude</th>\n",
       "      <th>end_station_longitude</th>\n",
       "      <th>bike_id</th>\n",
       "      <th>user_type</th>\n",
       "      <th>member_birth_year</th>\n",
       "      <th>age</th>\n",
       "      <th>member_gender</th>\n",
       "    </tr>\n",
       "  </thead>\n",
       "  <tbody>\n",
       "    <tr>\n",
       "      <th>235</th>\n",
       "      <td>2057</td>\n",
       "      <td>2018-01-31 20:21:46.4380</td>\n",
       "      <td>2018-01-31 20:56:04.0060</td>\n",
       "      <td>230.0</td>\n",
       "      <td>14th St at Mandela Pkwy</td>\n",
       "      <td>37.810743</td>\n",
       "      <td>-122.291415</td>\n",
       "      <td>abc</td>\n",
       "      <td>123456</td>\n",
       "      <td>243.0</td>\n",
       "      <td>Bancroft Way at College Ave</td>\n",
       "      <td>37.869360</td>\n",
       "      <td>-122.254337</td>\n",
       "      <td>272</td>\n",
       "      <td>Subscriber</td>\n",
       "      <td>1997</td>\n",
       "      <td>22</td>\n",
       "      <td>Other</td>\n",
       "    </tr>\n",
       "    <tr>\n",
       "      <th>242</th>\n",
       "      <td>735</td>\n",
       "      <td>2018-01-31 20:41:04.1420</td>\n",
       "      <td>2018-01-31 20:53:19.6450</td>\n",
       "      <td>6.0</td>\n",
       "      <td>The Embarcadero at Sansome St</td>\n",
       "      <td>37.804770</td>\n",
       "      <td>-122.403234</td>\n",
       "      <td>abc</td>\n",
       "      <td>123456</td>\n",
       "      <td>30.0</td>\n",
       "      <td>San Francisco Caltrain (Townsend St at 4th St)</td>\n",
       "      <td>37.776598</td>\n",
       "      <td>-122.395282</td>\n",
       "      <td>1659</td>\n",
       "      <td>Subscriber</td>\n",
       "      <td>1983</td>\n",
       "      <td>36</td>\n",
       "      <td>Other</td>\n",
       "    </tr>\n",
       "    <tr>\n",
       "      <th>255</th>\n",
       "      <td>1261</td>\n",
       "      <td>2018-01-31 20:28:01.1690</td>\n",
       "      <td>2018-01-31 20:49:03.0620</td>\n",
       "      <td>186.0</td>\n",
       "      <td>Lakeside Dr at 14th St</td>\n",
       "      <td>37.801319</td>\n",
       "      <td>-122.262642</td>\n",
       "      <td>abc</td>\n",
       "      <td>123456</td>\n",
       "      <td>196.0</td>\n",
       "      <td>Grand Ave at Perkins St</td>\n",
       "      <td>37.808894</td>\n",
       "      <td>-122.256460</td>\n",
       "      <td>1036</td>\n",
       "      <td>Customer</td>\n",
       "      <td>1987</td>\n",
       "      <td>32</td>\n",
       "      <td>Other</td>\n",
       "    </tr>\n",
       "    <tr>\n",
       "      <th>396</th>\n",
       "      <td>387</td>\n",
       "      <td>2018-01-31 20:00:54.0730</td>\n",
       "      <td>2018-01-31 20:07:21.5560</td>\n",
       "      <td>19.0</td>\n",
       "      <td>Post St at Kearny St</td>\n",
       "      <td>37.788975</td>\n",
       "      <td>-122.403452</td>\n",
       "      <td>abc</td>\n",
       "      <td>123456</td>\n",
       "      <td>321.0</td>\n",
       "      <td>5th at Folsom</td>\n",
       "      <td>37.780146</td>\n",
       "      <td>-122.403071</td>\n",
       "      <td>2688</td>\n",
       "      <td>Subscriber</td>\n",
       "      <td>1979</td>\n",
       "      <td>40</td>\n",
       "      <td>Other</td>\n",
       "    </tr>\n",
       "    <tr>\n",
       "      <th>460</th>\n",
       "      <td>495</td>\n",
       "      <td>2018-01-31 19:42:17.9960</td>\n",
       "      <td>2018-01-31 19:50:33.1630</td>\n",
       "      <td>223.0</td>\n",
       "      <td>16th St Mission BART Station 2</td>\n",
       "      <td>37.764765</td>\n",
       "      <td>-122.420091</td>\n",
       "      <td>abc</td>\n",
       "      <td>123456</td>\n",
       "      <td>119.0</td>\n",
       "      <td>18th St at Noe St</td>\n",
       "      <td>37.761047</td>\n",
       "      <td>-122.432642</td>\n",
       "      <td>3457</td>\n",
       "      <td>Subscriber</td>\n",
       "      <td>1988</td>\n",
       "      <td>31</td>\n",
       "      <td>Other</td>\n",
       "    </tr>\n",
       "  </tbody>\n",
       "</table>\n",
       "</div>"
      ],
      "text/plain": [
       "     duration_sec                start_time                  end_time  \\\n",
       "235          2057  2018-01-31 20:21:46.4380  2018-01-31 20:56:04.0060   \n",
       "242           735  2018-01-31 20:41:04.1420  2018-01-31 20:53:19.6450   \n",
       "255          1261  2018-01-31 20:28:01.1690  2018-01-31 20:49:03.0620   \n",
       "396           387  2018-01-31 20:00:54.0730  2018-01-31 20:07:21.5560   \n",
       "460           495  2018-01-31 19:42:17.9960  2018-01-31 19:50:33.1630   \n",
       "\n",
       "     start_station_id              start_station_name  start_station_latitude  \\\n",
       "235             230.0         14th St at Mandela Pkwy               37.810743   \n",
       "242               6.0   The Embarcadero at Sansome St               37.804770   \n",
       "255             186.0          Lakeside Dr at 14th St               37.801319   \n",
       "396              19.0            Post St at Kearny St               37.788975   \n",
       "460             223.0  16th St Mission BART Station 2               37.764765   \n",
       "\n",
       "     start_station_longitude city zip_code  end_station_id  \\\n",
       "235              -122.291415  abc   123456           243.0   \n",
       "242              -122.403234  abc   123456            30.0   \n",
       "255              -122.262642  abc   123456           196.0   \n",
       "396              -122.403452  abc   123456           321.0   \n",
       "460              -122.420091  abc   123456           119.0   \n",
       "\n",
       "                                   end_station_name  end_station_latitude  \\\n",
       "235                     Bancroft Way at College Ave             37.869360   \n",
       "242  San Francisco Caltrain (Townsend St at 4th St)             37.776598   \n",
       "255                         Grand Ave at Perkins St             37.808894   \n",
       "396                                   5th at Folsom             37.780146   \n",
       "460                               18th St at Noe St             37.761047   \n",
       "\n",
       "     end_station_longitude  bike_id   user_type  member_birth_year  age  \\\n",
       "235            -122.254337      272  Subscriber               1997   22   \n",
       "242            -122.395282     1659  Subscriber               1983   36   \n",
       "255            -122.256460     1036    Customer               1987   32   \n",
       "396            -122.403071     2688  Subscriber               1979   40   \n",
       "460            -122.432642     3457  Subscriber               1988   31   \n",
       "\n",
       "    member_gender  \n",
       "235         Other  \n",
       "242         Other  \n",
       "255         Other  \n",
       "396         Other  \n",
       "460         Other  "
      ]
     },
     "execution_count": 24,
     "metadata": {},
     "output_type": "execute_result"
    }
   ],
   "source": [
    "other_df= clean_df.loc[clean_df['member_gender']=='Other']\n",
    "other_df.head()\n",
    "# other_df.shape"
   ]
  },
  {
   "cell_type": "code",
   "execution_count": null,
   "metadata": {},
   "outputs": [],
   "source": [
    "other_df.shape"
   ]
  },
  {
   "cell_type": "code",
   "execution_count": 27,
   "metadata": {},
   "outputs": [
    {
     "data": {
      "text/plain": [
       "(1260551, 18)"
      ]
     },
     "execution_count": 27,
     "metadata": {},
     "output_type": "execute_result"
    }
   ],
   "source": [
    "male_df= clean_df.loc[clean_df['member_gender']=='Male']\n",
    "male_df.head()\n",
    "male_df.shape"
   ]
  },
  {
   "cell_type": "code",
   "execution_count": 28,
   "metadata": {},
   "outputs": [
    {
     "data": {
      "text/plain": [
       "(431825, 18)"
      ]
     },
     "execution_count": 28,
     "metadata": {},
     "output_type": "execute_result"
    }
   ],
   "source": [
    "female_df= clean_df.loc[clean_df['member_gender']=='Female']\n",
    "female_df.head()\n",
    "female_df.shape"
   ]
  },
  {
   "cell_type": "code",
   "execution_count": 29,
   "metadata": {},
   "outputs": [],
   "source": [
    "sub_df= clean_df.loc[clean_df['user_type']=='Subscriber']\n",
    "#sub_df.head()"
   ]
  },
  {
   "cell_type": "code",
   "execution_count": 43,
   "metadata": {},
   "outputs": [
    {
     "data": {
      "text/plain": [
       "(1520966, 18)"
      ]
     },
     "execution_count": 43,
     "metadata": {},
     "output_type": "execute_result"
    }
   ],
   "source": [
    "sub_df.shape\n",
    "# sub_df.head()\n",
    "#subscibers only df is 1.520966M by 18"
   ]
  },
  {
   "cell_type": "code",
   "execution_count": 38,
   "metadata": {},
   "outputs": [
    {
     "data": {
      "text/plain": [
       "array(['Male', 'Female', 'Other'], dtype=object)"
      ]
     },
     "execution_count": 38,
     "metadata": {},
     "output_type": "execute_result"
    }
   ],
   "source": [
    "sub_df['member_gender'].unique()"
   ]
  },
  {
   "cell_type": "code",
   "execution_count": 31,
   "metadata": {},
   "outputs": [
    {
     "data": {
      "text/plain": [
       "(1129462, 18)"
      ]
     },
     "execution_count": 31,
     "metadata": {},
     "output_type": "execute_result"
    }
   ],
   "source": [
    "m_sub_df= sub_df.loc[clean_df['member_gender']=='Male']\n",
    "m_sub_df.shape\n",
    "#1129462 by 18"
   ]
  },
  {
   "cell_type": "code",
   "execution_count": 32,
   "metadata": {},
   "outputs": [
    {
     "data": {
      "text/plain": [
       "(368967, 18)"
      ]
     },
     "execution_count": 32,
     "metadata": {},
     "output_type": "execute_result"
    }
   ],
   "source": [
    "f_sub_df= sub_df.loc[clean_df['member_gender']=='Female']\n",
    "f_sub_df.shape\n",
    "#368967 by 18"
   ]
  },
  {
   "cell_type": "code",
   "execution_count": 44,
   "metadata": {},
   "outputs": [
    {
     "data": {
      "text/plain": [
       "(22537, 18)"
      ]
     },
     "execution_count": 44,
     "metadata": {},
     "output_type": "execute_result"
    }
   ],
   "source": [
    "o_sub_df= sub_df.loc[clean_df['member_gender']=='Other']\n",
    "o_sub_df.shape\n",
    "#o_sub_df.head()\n",
    "\n",
    "#cnt is 22537 by 18"
   ]
  },
  {
   "cell_type": "code",
   "execution_count": null,
   "metadata": {},
   "outputs": [],
   "source": [
    "clean_df['age'].describe()\n"
   ]
  },
  {
   "cell_type": "code",
   "execution_count": null,
   "metadata": {},
   "outputs": [],
   "source": [
    "low_df = clean_df[(clean_df['age']<20)]\n",
    "low_df.shape"
   ]
  },
  {
   "cell_type": "code",
   "execution_count": null,
   "metadata": {},
   "outputs": [],
   "source": [
    "o_low_df= low_df.loc[clean_df['member_gender']=='Other']\n",
    "o_low_df.shape"
   ]
  },
  {
   "cell_type": "code",
   "execution_count": null,
   "metadata": {},
   "outputs": [],
   "source": [
    "m_low_df= low_df.loc[clean_df['member_gender']=='Male']\n",
    "m_low_df.shape"
   ]
  },
  {
   "cell_type": "code",
   "execution_count": null,
   "metadata": {},
   "outputs": [],
   "source": [
    "f_low_df= low_df.loc[clean_df['member_gender']=='Female']\n",
    "f_low_df.shape"
   ]
  },
  {
   "cell_type": "code",
   "execution_count": null,
   "metadata": {},
   "outputs": [],
   "source": [
    "und23_df = clean_df[(clean_df['age']<23)]\n",
    "und23_df.shape"
   ]
  },
  {
   "cell_type": "code",
   "execution_count": null,
   "metadata": {},
   "outputs": [],
   "source": [
    "o_u23_df= und23_df.loc[clean_df['member_gender']=='Other']\n",
    "o_u23_df.shape"
   ]
  },
  {
   "cell_type": "code",
   "execution_count": null,
   "metadata": {},
   "outputs": [],
   "source": [
    "m_u23_df= und23_df.loc[clean_df['member_gender']=='Male']\n",
    "m_u23_df.shape"
   ]
  },
  {
   "cell_type": "code",
   "execution_count": null,
   "metadata": {},
   "outputs": [],
   "source": [
    "f_u23_df= und23_df.loc[clean_df['member_gender']=='Female']\n",
    "f_u23_df.shape"
   ]
  },
  {
   "cell_type": "code",
   "execution_count": null,
   "metadata": {},
   "outputs": [],
   "source": [
    "# # grp all that are under age 37, the millenial? 23 to 37\n",
    "# age_df= clean_df.loc[clean_df['age']>'23'and ['age']<'37' ]\n",
    "# age_df.shape\n",
    "\n",
    "# bins = [20, 25, 30, 35, 37, 40, 45]\n",
    "# names = ['<20', '20-24','25-29', '30-35', '36 and 37','37-40', '40-44','>45' ]\n",
    "\n",
    "#fig out millenials 23 to 37\n",
    "# under23_df= sub_df.loc[clean_df['age'] <'23']\n",
    "# under23_dfshape\n",
    "\n",
    "# df[(df[col]>22) & (df[col]<38]\n",
    "\n",
    "early_mil_df = clean_df[(clean_df['age']>22) & (clean_df['age']<30)]\n",
    "early_mil_df.shape\n",
    "#mil_df.head()"
   ]
  },
  {
   "cell_type": "code",
   "execution_count": null,
   "metadata": {},
   "outputs": [],
   "source": [
    "o_early_mil_df= early_mil_df.loc[clean_df['member_gender']=='Other']\n",
    "o_early_mil_df.shape"
   ]
  },
  {
   "cell_type": "code",
   "execution_count": null,
   "metadata": {},
   "outputs": [],
   "source": [
    "m_early_mil_df= early_mil_df.loc[clean_df['member_gender']=='Male']\n",
    "m_early_mil_df.shape"
   ]
  },
  {
   "cell_type": "code",
   "execution_count": null,
   "metadata": {},
   "outputs": [],
   "source": [
    "f_early_mil_df= early_mil_df.loc[clean_df['member_gender']=='Female']\n",
    "f_early_mil_df.shape"
   ]
  },
  {
   "cell_type": "code",
   "execution_count": null,
   "metadata": {},
   "outputs": [],
   "source": [
    "late_mil_df = clean_df[(clean_df['age']>29) & (clean_df['age']<38)]\n",
    "late_mil_df.shape"
   ]
  },
  {
   "cell_type": "code",
   "execution_count": null,
   "metadata": {},
   "outputs": [],
   "source": [
    "o_late_mil_df= late_mil_df.loc[clean_df['member_gender']=='Other']\n",
    "o_late_mil_df.shape"
   ]
  },
  {
   "cell_type": "code",
   "execution_count": null,
   "metadata": {},
   "outputs": [],
   "source": [
    "m_late_mil_df= late_mil_df.loc[clean_df['member_gender']=='Male']\n",
    "m_late_mil_df.shape"
   ]
  },
  {
   "cell_type": "code",
   "execution_count": null,
   "metadata": {},
   "outputs": [],
   "source": [
    "f_late_mil_df= late_mil_df.loc[clean_df['member_gender']=='Female']\n",
    "f_late_mil_df.shape"
   ]
  },
  {
   "cell_type": "code",
   "execution_count": null,
   "metadata": {},
   "outputs": [],
   "source": [
    "to41_df= clean_df[(clean_df['age']>37) & (clean_df['age']<42)]\n",
    "to41_df.shape"
   ]
  },
  {
   "cell_type": "code",
   "execution_count": null,
   "metadata": {},
   "outputs": [],
   "source": [
    "o_to41_df= to41_df.loc[clean_df['member_gender']=='Other']\n",
    "o_to41_df.shape"
   ]
  },
  {
   "cell_type": "code",
   "execution_count": null,
   "metadata": {},
   "outputs": [],
   "source": [
    "m_to41_df= to41_df.loc[clean_df['member_gender']=='Male']\n",
    "m_to41_df.shape"
   ]
  },
  {
   "cell_type": "code",
   "execution_count": null,
   "metadata": {},
   "outputs": [],
   "source": [
    "f_to41_df= to41_df.loc[clean_df['member_gender']=='Female']\n",
    "f_to41_df.shape"
   ]
  },
  {
   "cell_type": "code",
   "execution_count": null,
   "metadata": {},
   "outputs": [],
   "source": [
    "ove41_df = clean_df[(clean_df['age']>65)]\n",
    "ove41_df.shape"
   ]
  },
  {
   "cell_type": "code",
   "execution_count": null,
   "metadata": {},
   "outputs": [],
   "source": [
    "o_ove41_df= ove41_df.loc[clean_df['member_gender']=='Other']\n",
    "o_ove41_df.shape"
   ]
  },
  {
   "cell_type": "code",
   "execution_count": null,
   "metadata": {},
   "outputs": [],
   "source": [
    "m_ove41_df= ove41_df.loc[clean_df['member_gender']=='Male']\n",
    "m_ove41_df.shape"
   ]
  },
  {
   "cell_type": "code",
   "execution_count": null,
   "metadata": {},
   "outputs": [],
   "source": [
    "f_ove41_df= ove41_df.loc[clean_df['member_gender']=='Female']\n",
    "f_ove41_df.shape"
   ]
  },
  {
   "cell_type": "code",
   "execution_count": null,
   "metadata": {},
   "outputs": [],
   "source": [
    "# Find zipcodes using latitude and longitude coordinates\n",
    "\n",
    "# Use sample coordinates and set \"returns\" to 1 to print out the result to determine the location of the zipcode value in the list\n",
    "# The list returned by search.by_coordinates() does not allow strings to be used to select values due to SimpleZipcode()\n",
    "coordinates_sample = search.by_coordinates(39.122229, -77.133578, radius=5, returns=1)\n",
    "print(coordinates_sample)"
   ]
  },
  {
   "cell_type": "code",
   "execution_count": null,
   "metadata": {},
   "outputs": [],
   "source": [
    "# Create an empty list to append the coordinate values to\n",
    "coordinates_list = []\n",
    "\n",
    "# Zip the columns \"start_station_latitude\" and \"start_station_longitude\" to return an iterator of tuples\n",
    "# Loop through each value in the columns using lat, lng\n",
    "for lat, lng  in zip(df['start_station_latitude'], df['start_station_longitude']):\n",
    "    print(lat, lng)\n",
    "    # Find the lng, lat paired coordinates using search.by_coordinates() from the uszipcode dependency\n",
    "    # Set returns to 0 to return all of the coordinates in the lat,lng columns\n",
    "    # Set the radius to 100 to make sure to cover all of the zipcodes included in our database\n",
    "    coordinates = search.by_coordinates(lat=lat, lng=lng, radius=100, returns=0)\n",
    "    # Append the lat,lng coordinates to coordinates_list\n",
    "    coordinates_list.append(coordinates)"
   ]
  },
  {
   "cell_type": "code",
   "execution_count": null,
   "metadata": {},
   "outputs": [],
   "source": [
    "# Use a list comprehension to unpack the rest of the values in \"result\" so you can choose the zipcodes to add to the dataframe\n",
    "zipcode = [coordinates_list[i][0].items()[0][1] for i, x in enumerate(coordinates_list)]\n",
    "\n",
    "# Assign the zipcode values to the zip_code column in the dataframe\n",
    "df['zip_code'] = zipcode\n",
    "# Preview the first 5 rows of the updated dataframe to confirm that the changes were made properly\n",
    "df.head()"
   ]
  },
  {
   "cell_type": "code",
   "execution_count": null,
   "metadata": {},
   "outputs": [],
   "source": [
    "# Calculate number of stations in each zip code\n",
    "\n",
    "# Create a new dataframe with the columns zip_code, start_station_id, and end_station_id. This will be used to calculate the\n",
    "# number of stations in each zip code\n",
    "station_count_df = df[['zip_code', 'start_station_id', 'end_station_id']]\n",
    "# Display the first few rows to confirm that the dataframe was created properly\n",
    "station_count_df.head()"
   ]
  },
  {
   "cell_type": "code",
   "execution_count": null,
   "metadata": {},
   "outputs": [],
   "source": [
    "# Set a variable, unique_count, to a groupby() object as a base for calculating the number of stations in each zip code\n",
    "# Pass the zip_code column into groupby to count the number of stations grouped by each unique zip code\n",
    "# Use .size() to return the total number of elements\n",
    "# Use .reset_index() to recalculate the index for each row based upon their position within the new DataFrame. This will\n",
    " # enable simpler referencing of rows in the future\n",
    "# Pass the name argument in .reset_index() to assign a name to the column that will hold the values for the number of stations\n",
    " # in each zip code\n",
    "unique_count = station_count_df.groupby('zip_code').size().reset_index(name='num_stations_by_zip')\n",
    "# Display the dataframe to make sure it was created properly\n",
    "unique_count"
   ]
  },
  {
   "cell_type": "code",
   "execution_count": null,
   "metadata": {},
   "outputs": [],
   "source": [
    "# Calculate the length of the station_count_df dataframe and the sum of the values in the num_stations_by_zip to make sure they\n",
    "# match\n",
    "print(len(station_count_df))\n",
    "print(unique_count['num_stations_by_zip'].sum())"
   ]
  },
  {
   "cell_type": "code",
   "execution_count": null,
   "metadata": {},
   "outputs": [],
   "source": [
    "# create the lat/long and make sure they are in the city limits"
   ]
  },
  {
   "cell_type": "code",
   "execution_count": null,
   "metadata": {},
   "outputs": [],
   "source": [
    "# map the lat/lng over a map of the city"
   ]
  },
  {
   "cell_type": "markdown",
   "metadata": {},
   "source": [
    "#look at the number of rides over the year"
   ]
  },
  {
   "cell_type": "code",
   "execution_count": null,
   "metadata": {},
   "outputs": [],
   "source": [
    "# id the ride length and then calc the 2sigma"
   ]
  },
  {
   "cell_type": "code",
   "execution_count": null,
   "metadata": {},
   "outputs": [],
   "source": [
    "do we keep these or are the ok"
   ]
  }
 ],
 "metadata": {
  "kernelspec": {
   "display_name": "Python 3",
   "language": "python",
   "name": "python3"
  },
  "language_info": {
   "codemirror_mode": {
    "name": "ipython",
    "version": 3
   },
   "file_extension": ".py",
   "mimetype": "text/x-python",
   "name": "python",
   "nbconvert_exporter": "python",
   "pygments_lexer": "ipython3",
   "version": "3.7.1"
  }
 },
 "nbformat": 4,
 "nbformat_minor": 2
}
