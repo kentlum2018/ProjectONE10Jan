{
 "cells": [
  {
   "cell_type": "code",
   "execution_count": null,
   "metadata": {},
   "outputs": [],
   "source": [
    "#pull all 12 months data\n",
    "#using FordGO from the SF Bay area and includes 5 cities"
   ]
  },
  {
   "cell_type": "code",
   "execution_count": 1,
   "metadata": {},
   "outputs": [],
   "source": [
    "import zipfile, urllib.request, shutil\n",
    "import pandas as pd\n",
    "import numpy as np\n",
    "import glob\n",
    "import citipy\n",
    "import csv\n",
    "import os\n",
    "from uszipcode import SearchEngine, SimpleZipcode, Zipcode\n",
    "search = SearchEngine()\n",
    "import matplotlib.pyplot as plt\n",
    "import seaborn as sns\n",
    "from datetime import datetime\n",
    "import time\n",
    "import datetime\n"
   ]
  },
  {
   "cell_type": "code",
   "execution_count": null,
   "metadata": {},
   "outputs": [],
   "source": [
    "#id the folder that has all the zip files\n",
    "#create a glob for the path and file names\n",
    "#create a empty list for holding everything \n",
    "path = r'C:\\Users\\Gogster\\Documents\\GitHub\\RawData'\n",
    "\n",
    "allfiles=glob.glob(path+\"/*.zip\")\n",
    "\n",
    "data_list=[]\n"
   ]
  },
  {
   "cell_type": "code",
   "execution_count": null,
   "metadata": {},
   "outputs": [],
   "source": [
    "# zip_list=[201801-fordgobike-tripdata.csv.zip,\n",
    "#           201802-fordgobike-tripdata.csv.zip,\n",
    "#           201803-fordgobike-tripdata.csv.zip,\n",
    "#           201804-fordgobike-tripdata.csv.zip,\n",
    "#          201805-fordgobike-tripdata.csv.zip,\n",
    "#          201806-fordgobike-tripdata.csv.zip,\n",
    "#          201807-fordgobike-tripdata.csv.zip,\n",
    "#          201808-fordgobike-tripdata.csv.zip,\n",
    "#          201809-fordgobike-tripdata.csv.zip,\n",
    "#          2018010-fordgobike-tripdata.csv.zip,\n",
    "#          2018011-fordgobike-tripdata.csv.zip,\n",
    "#          2018012-fordgobike-tripdata.csv.zip]"
   ]
  },
  {
   "cell_type": "code",
   "execution_count": null,
   "metadata": {},
   "outputs": [],
   "source": [
    "#list comprehend through the folder with all the zip files\n",
    "#append to the dataframe merging all the months\n",
    "\n",
    "for z_file in allfiles:\n",
    "    df=pd.read_csv(z_file, compression='zip',header=0,sep=',',quotechar='\"')\n",
    "    data_list.append(df)\n",
    "\n",
    "all_frame=pd.concat(data_list,axis=0,ignore_index=True)    "
   ]
  },
  {
   "cell_type": "code",
   "execution_count": null,
   "metadata": {},
   "outputs": [],
   "source": [
    "all_frame.head()"
   ]
  },
  {
   "cell_type": "code",
   "execution_count": null,
   "metadata": {},
   "outputs": [],
   "source": [
    "all_frame.shape\n",
    "#this is all the rows 1.863721M by 16"
   ]
  },
  {
   "cell_type": "code",
   "execution_count": null,
   "metadata": {},
   "outputs": [],
   "source": [
    "#create 2 new rows 1 for the zip code and one for the city name\n",
    "#city \n",
    "all_frame.insert(loc=7, column='city', value='abc')\n",
    "#zip codes\n",
    "all_frame.insert(loc=8, column='zip_code', value='123456')\n",
    "#age in years of users\n",
    "all_frame.insert(loc=16, column='age', value ='99')"
   ]
  },
  {
   "cell_type": "code",
   "execution_count": null,
   "metadata": {},
   "outputs": [],
   "source": [
    "#display new table\n",
    "all_frame.head()"
   ]
  },
  {
   "cell_type": "code",
   "execution_count": null,
   "metadata": {
    "scrolled": true
   },
   "outputs": [],
   "source": [
    "#remove rows which have Nan values\n",
    "drop_frame= all_frame.dropna(axis=0,how='any',inplace=False)\n",
    "#delete extra columns in the data that are not relavent\n",
    "drop_frame.drop(['bike_share_for_all_trip'],axis = 1, inplace = True)\n",
    "#display the dataframe\n",
    "#drop_frame.head()"
   ]
  },
  {
   "cell_type": "code",
   "execution_count": null,
   "metadata": {},
   "outputs": [],
   "source": [
    "drop_frame.shape\n",
    "# 1.741556 M and 18"
   ]
  },
  {
   "cell_type": "code",
   "execution_count": null,
   "metadata": {},
   "outputs": [],
   "source": [
    "clean_df=pd.DataFrame(drop_frame)"
   ]
  },
  {
   "cell_type": "code",
   "execution_count": null,
   "metadata": {},
   "outputs": [],
   "source": [
    "#find age of user by subtracting birth year from current year\n",
    "thisyear=2019\n",
    "clean_df['age'] = thisyear - clean_df['member_birth_year']\n",
    "clean_df['age'] = clean_df['age'].astype(int)\n",
    "clean_df['member_birth_year'] = clean_df['member_birth_year'].astype(int)\n",
    "clean_df.head()"
   ]
  },
  {
   "cell_type": "code",
   "execution_count": null,
   "metadata": {},
   "outputs": [],
   "source": [
    "max_age = 65\n",
    "# under65_df = drop_frame.loc[:, (drop_frame.isnull().sum(axis=0) <= max_age)]\n",
    "# under65_df.shape\n",
    "#did not work\n",
    "\n",
    "\n",
    "#Use this DF for all work- It holds all the users aged 19 to 65\n",
    "max_age_df = (clean_df[clean_df['age']<(max_age)])\n",
    "max_age_df.shape\n",
    "#1.71882M records"
   ]
  },
  {
   "cell_type": "code",
   "execution_count": null,
   "metadata": {},
   "outputs": [],
   "source": [
    "clean_df=pd.DataFrame(max_age_df)\n",
    "# clean_df.head()"
   ]
  },
  {
   "cell_type": "code",
   "execution_count": null,
   "metadata": {},
   "outputs": [],
   "source": [
    "#clean_df.to_csv(\"clean_bike_data.csv\")"
   ]
  },
  {
   "cell_type": "code",
   "execution_count": null,
   "metadata": {},
   "outputs": [],
   "source": [
    "#interate through the df and pull out the lat/lng to plug into function search.by_coordinates"
   ]
  },
  {
   "cell_type": "code",
   "execution_count": null,
   "metadata": {},
   "outputs": [],
   "source": [
    "#zip code vs number of stations"
   ]
  },
  {
   "cell_type": "code",
   "execution_count": null,
   "metadata": {},
   "outputs": [],
   "source": [
    "#which users are consumers vs subscribers (user_type=Subscriber)\n",
    "s_grp_cnt= clean_df.groupby('user_type').size()\n",
    "print (s_grp_cnt)\n",
    "# 1.718882M and 18 col"
   ]
  },
  {
   "cell_type": "code",
   "execution_count": null,
   "metadata": {},
   "outputs": [],
   "source": [
    "#group by the sex of the users\n",
    "# the cnt is correct here\n",
    "m_grp_cnt= clean_df.groupby('member_gender').size()\n",
    "print (m_grp_cnt)"
   ]
  },
  {
   "cell_type": "code",
   "execution_count": null,
   "metadata": {},
   "outputs": [],
   "source": [
    "# NOT NEEDED\n",
    "#gender_cnt_df=pd.DataFrame(m_grp_cnt)\n",
    "# gender_cnt_df.head()"
   ]
  },
  {
   "cell_type": "code",
   "execution_count": null,
   "metadata": {},
   "outputs": [],
   "source": [
    "# insert pie graph of gender percentages\n",
    "plt.title(\"Gender Percentage of Riders\")\n",
    "c_type=['Female','Male','Other']\n",
    "# c_perc=[urb_fare_per,rur_fare_per,sub_fare_per]\n",
    "colors = [\"lightcoral\",\"lightskyblue\",\"gold\"]\n",
    "explode = (0.05, 0.0, 0) \n",
    "plot = m_grp_cnt.plot.pie(y='member_gender',figsize=(10,10),explode=explode, labels=c_type, colors=colors,\n",
    "        autopct=\"%1.1f%%\", shadow=True, startangle=270,radius=1.2)\n",
    "plt.axis(\"equal\") \n",
    "plt.show()"
   ]
  },
  {
   "cell_type": "code",
   "execution_count": null,
   "metadata": {
    "scrolled": true
   },
   "outputs": [],
   "source": [
    "# drop_frame.query(float('member_birth_year') > float('1989.0') and user_type == 'Subsciber').groupby('Sex').count()\n",
    "#calc the number of customers and subscribers by gender\n",
    "\n",
    "cus_df = clean_df.groupby(['user_type','member_gender']).size()\n",
    "# cus_df.head(10)\n",
    "cus_df\n"
   ]
  },
  {
   "cell_type": "code",
   "execution_count": null,
   "metadata": {},
   "outputs": [],
   "source": [
    "explode = (0.05, 0.0, .05,1.0,1.0,100.0)\n",
    "plot = cus_df.plot.pie(y='member_gender',figsize=(15,15),autopct=\"%1.2f%%\", shadow=False, labeldistance=1.05,startangle=270,radius=1.2)\n",
    "plt.title(\"Gender and User Type\")\n",
    "# plt.pie(sizes, labels=labels, autopct='%1.0f%%', pctdistance=1.1, labeldistance=1.2)\n",
    "plt.show()"
   ]
  },
  {
   "cell_type": "code",
   "execution_count": null,
   "metadata": {},
   "outputs": [],
   "source": [
    "#bin the data by age groups\n",
    "# Bins are 0, 60, 70, 80, 90, 100\n",
    "bins = [0, 22, 31, 38, 45, 55, 66, 100]\n",
    "\n",
    "# Create the names for the four bins\n",
    "group_names = [\"<21\", \"Early Millenial\", \"Late Millenial\", \"38-45\", \"46-55\",\"56-65\", \">65\"]"
   ]
  },
  {
   "cell_type": "code",
   "execution_count": null,
   "metadata": {},
   "outputs": [],
   "source": [
    "# clean_df['age_grp'] = pd.cut(clean_df[\"age\"], bins, labels=group_names)\n",
    "# # age_df[\"age_bracket\"]= pd.cut(clean_df[\"age\"], bins, labels=group_names)\n",
    "# #age_df= age_df.groupby([user_type])\n",
    "# clean_df.head()\n",
    "# clean_df.shape\n",
    "\n",
    "clean_df['age_grp'] = pd.cut(clean_df[\"age\"], bins, labels=group_names)\n",
    "# age_df[\"age_bracket\"]= pd.cut(clean_df[\"age\"], bins, labels=group_names)\n",
    "#age_df= age_df.groupby([user_type])\n",
    "clean_df.head()\n",
    "clean_age_df= clean_df.groupby('age_grp', as_index=False)\n"
   ]
  },
  {
   "cell_type": "code",
   "execution_count": null,
   "metadata": {},
   "outputs": [],
   "source": [
    "# clean_age_df=clean_df.groupby(['age_grp','user_type'])['age_grp'].count()\n",
    "clean_age_df\n",
    "# clean_age_df=pd.DataFrame(clean_age_df, index=False)"
   ]
  },
  {
   "cell_type": "code",
   "execution_count": null,
   "metadata": {},
   "outputs": [],
   "source": [
    "clean_age_df.head()"
   ]
  },
  {
   "cell_type": "code",
   "execution_count": null,
   "metadata": {},
   "outputs": [],
   "source": []
  },
  {
   "cell_type": "code",
   "execution_count": null,
   "metadata": {},
   "outputs": [],
   "source": [
    "# #number of users by the age grps and make them stackin\n",
    "\n",
    "# #df2 = df.groupby(['Name', 'Abuse/NFF'])['Name'].count().unstack('Abuse/NFF').fillna(0)\n",
    "# clean_age_df[['user-type','age_grp']].plot(kind='bar', stacked=True)\n",
    "#plot = clean_age_df.plot.pie(y='age_grp',figsize=(5,5))\n",
    "#plot=clean_age_df.plot.bar(['user-type'] stacked=True)\n",
    "clean_age_df.plot(kind='bar',stacked=True) #works but lists it all out\n",
    "#does not work pivot_df= clean_age_df.df.pitot(index= 'age_grp', columns = 'user_type', values='user_type' )\n",
    "\n",
    "plt.show()\n"
   ]
  },
  {
   "cell_type": "code",
   "execution_count": null,
   "metadata": {},
   "outputs": [],
   "source": [
    "# plot = age_df.plot.pie(y='member_gender',figsize=(5,5))\n",
    "# plt.show()"
   ]
  },
  {
   "cell_type": "code",
   "execution_count": null,
   "metadata": {},
   "outputs": [],
   "source": [
    "# cus_age_df = clean_df.groupby(['user_type','member_gender','age']).size()\n",
    "# # cus_df.head(10)\n",
    "# cus_age_df"
   ]
  },
  {
   "cell_type": "code",
   "execution_count": null,
   "metadata": {},
   "outputs": [],
   "source": [
    "# plot = cus_age_df.plot.pie(y='member_gender',figsize=(5,5))\n",
    "# plt.show()\n",
    "# #need to bin this"
   ]
  },
  {
   "cell_type": "code",
   "execution_count": null,
   "metadata": {},
   "outputs": [],
   "source": [
    "# other_df= clean_df.loc[clean_df['member_gender']=='Other']\n",
    "# other_df.head()\n",
    "# # other_df.shape"
   ]
  },
  {
   "cell_type": "code",
   "execution_count": null,
   "metadata": {},
   "outputs": [],
   "source": [
    "# other_df.shape"
   ]
  },
  {
   "cell_type": "code",
   "execution_count": null,
   "metadata": {},
   "outputs": [],
   "source": [
    "# male_df= clean_df.loc[clean_df['member_gender']=='Male']\n",
    "# male_df.head()\n",
    "# male_df.shape"
   ]
  },
  {
   "cell_type": "code",
   "execution_count": null,
   "metadata": {},
   "outputs": [],
   "source": [
    "# female_df= clean_df.loc[clean_df['member_gender']=='Female']\n",
    "# female_df.head()\n",
    "# female_df.shape"
   ]
  },
  {
   "cell_type": "code",
   "execution_count": null,
   "metadata": {},
   "outputs": [],
   "source": [
    "# sub_df= clean_df.loc[clean_df['user_type']=='Subscriber']\n",
    "# #sub_df.head()"
   ]
  },
  {
   "cell_type": "code",
   "execution_count": null,
   "metadata": {},
   "outputs": [],
   "source": [
    "# sub_df.shape\n",
    "# # sub_df.head()\n",
    "# #subscibers only df is 1.520966M by 18"
   ]
  },
  {
   "cell_type": "code",
   "execution_count": null,
   "metadata": {},
   "outputs": [],
   "source": [
    "# sub_df['member_gender'].unique()"
   ]
  },
  {
   "cell_type": "code",
   "execution_count": null,
   "metadata": {},
   "outputs": [],
   "source": [
    "# m_sub_df= sub_df.loc[clean_df['member_gender']=='Male']\n",
    "# m_sub_df.shape\n",
    "# #1129462 by 18"
   ]
  },
  {
   "cell_type": "code",
   "execution_count": null,
   "metadata": {},
   "outputs": [],
   "source": [
    "# f_sub_df= sub_df.loc[clean_df['member_gender']=='Female']\n",
    "# f_sub_df.shape\n",
    "# #368967 by 18"
   ]
  },
  {
   "cell_type": "code",
   "execution_count": null,
   "metadata": {},
   "outputs": [],
   "source": [
    "# o_sub_df= sub_df.loc[clean_df['member_gender']=='Other']\n",
    "# o_sub_df.shape\n",
    "# #o_sub_df.head()\n",
    "\n",
    "# #cnt is 22537 by 18"
   ]
  },
  {
   "cell_type": "code",
   "execution_count": null,
   "metadata": {},
   "outputs": [],
   "source": [
    "clean_df['age'].describe()\n"
   ]
  },
  {
   "cell_type": "code",
   "execution_count": null,
   "metadata": {},
   "outputs": [],
   "source": [
    "# low_df = clean_df[(clean_df['age']<20)]\n",
    "# low_df.shape"
   ]
  },
  {
   "cell_type": "code",
   "execution_count": null,
   "metadata": {},
   "outputs": [],
   "source": [
    "# o_low_df= low_df.loc[clean_df['member_gender']=='Other']\n",
    "# o_low_df.shape"
   ]
  },
  {
   "cell_type": "code",
   "execution_count": null,
   "metadata": {},
   "outputs": [],
   "source": [
    "# m_low_df= low_df.loc[clean_df['member_gender']=='Male']\n",
    "# m_low_df.shape"
   ]
  },
  {
   "cell_type": "code",
   "execution_count": null,
   "metadata": {},
   "outputs": [],
   "source": [
    "# f_low_df= low_df.loc[clean_df['member_gender']=='Female']\n",
    "# f_low_df.shape"
   ]
  },
  {
   "cell_type": "code",
   "execution_count": null,
   "metadata": {},
   "outputs": [],
   "source": [
    "# und23_df = clean_df[(clean_df['age']<23)]\n",
    "# und23_df.shape"
   ]
  },
  {
   "cell_type": "code",
   "execution_count": null,
   "metadata": {},
   "outputs": [],
   "source": [
    "# o_u23_df= und23_df.loc[clean_df['member_gender']=='Other']\n",
    "# o_u23_df.shape"
   ]
  },
  {
   "cell_type": "code",
   "execution_count": null,
   "metadata": {},
   "outputs": [],
   "source": [
    "# m_u23_df= und23_df.loc[clean_df['member_gender']=='Male']\n",
    "# m_u23_df.shape"
   ]
  },
  {
   "cell_type": "code",
   "execution_count": null,
   "metadata": {},
   "outputs": [],
   "source": [
    "# f_u23_df= und23_df.loc[clean_df['member_gender']=='Female']\n",
    "# f_u23_df.shape"
   ]
  },
  {
   "cell_type": "code",
   "execution_count": null,
   "metadata": {},
   "outputs": [],
   "source": [
    "# # grp all that are under age 37, the millenial? 23 to 37\n",
    "# age_df= clean_df.loc[clean_df['age']>'23'and ['age']<'37' ]\n",
    "# age_df.shape\n",
    "\n",
    "# bins = [20, 25, 30, 35, 37, 40, 45]\n",
    "# names = ['<20', '20-24','25-29', '30-35', '36 and 37','37-40', '40-44','>45' ]\n",
    "\n",
    "#fig out millenials 23 to 37\n",
    "# under23_df= sub_df.loc[clean_df['age'] <'23']\n",
    "# under23_dfshape\n",
    "\n",
    "# df[(df[col]>22) & (df[col]<38]\n",
    "\n",
    "# early_mil_df = clean_df[(clean_df['age']>22) & (clean_df['age']<30)]\n",
    "# early_mil_df.shape\n",
    "# #mil_df.head()"
   ]
  },
  {
   "cell_type": "code",
   "execution_count": null,
   "metadata": {},
   "outputs": [],
   "source": [
    "# o_early_mil_df= early_mil_df.loc[clean_df['member_gender']=='Other']\n",
    "# o_early_mil_df.shape"
   ]
  },
  {
   "cell_type": "code",
   "execution_count": null,
   "metadata": {},
   "outputs": [],
   "source": [
    "# m_early_mil_df= early_mil_df.loc[clean_df['member_gender']=='Male']\n",
    "# m_early_mil_df.shape"
   ]
  },
  {
   "cell_type": "code",
   "execution_count": null,
   "metadata": {},
   "outputs": [],
   "source": [
    "# f_early_mil_df= early_mil_df.loc[clean_df['member_gender']=='Female']\n",
    "# f_early_mil_df.shape"
   ]
  },
  {
   "cell_type": "code",
   "execution_count": null,
   "metadata": {},
   "outputs": [],
   "source": [
    "# late_mil_df = clean_df[(clean_df['age']>29) & (clean_df['age']<38)]\n",
    "# late_mil_df.shape"
   ]
  },
  {
   "cell_type": "code",
   "execution_count": null,
   "metadata": {},
   "outputs": [],
   "source": [
    "# o_late_mil_df= late_mil_df.loc[clean_df['member_gender']=='Other']\n",
    "# o_late_mil_df.shape"
   ]
  },
  {
   "cell_type": "code",
   "execution_count": null,
   "metadata": {},
   "outputs": [],
   "source": [
    "# m_late_mil_df= late_mil_df.loc[clean_df['member_gender']=='Male']\n",
    "# m_late_mil_df.shape"
   ]
  },
  {
   "cell_type": "code",
   "execution_count": null,
   "metadata": {},
   "outputs": [],
   "source": [
    "# f_late_mil_df= late_mil_df.loc[clean_df['member_gender']=='Female']\n",
    "# f_late_mil_df.shape"
   ]
  },
  {
   "cell_type": "code",
   "execution_count": null,
   "metadata": {},
   "outputs": [],
   "source": [
    "# to41_df= clean_df[(clean_df['age']>37) & (clean_df['age']<42)]\n",
    "# to41_df.shape"
   ]
  },
  {
   "cell_type": "code",
   "execution_count": null,
   "metadata": {},
   "outputs": [],
   "source": [
    "# o_to41_df= to41_df.loc[clean_df['member_gender']=='Other']\n",
    "# o_to41_df.shape"
   ]
  },
  {
   "cell_type": "code",
   "execution_count": null,
   "metadata": {},
   "outputs": [],
   "source": [
    "# m_to41_df= to41_df.loc[clean_df['member_gender']=='Male']\n",
    "# m_to41_df.shape"
   ]
  },
  {
   "cell_type": "code",
   "execution_count": null,
   "metadata": {},
   "outputs": [],
   "source": [
    "# f_to41_df= to41_df.loc[clean_df['member_gender']=='Female']\n",
    "# f_to41_df.shape"
   ]
  },
  {
   "cell_type": "code",
   "execution_count": null,
   "metadata": {},
   "outputs": [],
   "source": [
    "# ove41_df = clean_df[(clean_df['age']>65)]\n",
    "# ove41_df.shape"
   ]
  },
  {
   "cell_type": "code",
   "execution_count": null,
   "metadata": {},
   "outputs": [],
   "source": [
    "# o_ove41_df= ove41_df.loc[clean_df['member_gender']=='Other']\n",
    "# o_ove41_df.shape"
   ]
  },
  {
   "cell_type": "code",
   "execution_count": null,
   "metadata": {},
   "outputs": [],
   "source": [
    "# m_ove41_df= ove41_df.loc[clean_df['member_gender']=='Male']\n",
    "# m_ove41_df.shape"
   ]
  },
  {
   "cell_type": "code",
   "execution_count": null,
   "metadata": {},
   "outputs": [],
   "source": [
    "# f_ove41_df= ove41_df.loc[clean_df['member_gender']=='Female']\n",
    "# f_ove41_df.shape"
   ]
  },
  {
   "cell_type": "code",
   "execution_count": null,
   "metadata": {},
   "outputs": [],
   "source": [
    "# Find zipcodes using latitude and longitude coordinates\n",
    "\n",
    "# Use sample coordinates and set \"returns\" to 1 to print out the result to determine the location of the zipcode value in the list\n",
    "# The list returned by search.by_coordinates() does not allow strings to be used to select values due to SimpleZipcode()\n",
    "# coordinates_sample = search.by_coordinates(39.122229, -77.133578, radius=5, returns=1)\n",
    "#print(coordinates_sample)"
   ]
  },
  {
   "cell_type": "code",
   "execution_count": null,
   "metadata": {},
   "outputs": [],
   "source": [
    "clean_small= clean_df.head(50)\n",
    "clean_small.shape"
   ]
  },
  {
   "cell_type": "code",
   "execution_count": null,
   "metadata": {},
   "outputs": [],
   "source": [
    "# Create an empty list to append the coordinate values to\n",
    "coordinates_list = []\n",
    "\n",
    "# Zip the columns \"start_station_latitude\" and \"start_station_longitude\" to return an iterator of tuples\n",
    "# Loop through each value in the columns using lat, lng\n",
    "for lat, lng  in zip(clean_small['start_station_latitude'], clean_small['start_station_longitude']):\n",
    "    #print(lat, lng)\n",
    "    # Find the lng, lat paired coordinates using search.by_coordinates() from the uszipcode dependency\n",
    "    # Set returns to 0 to return all of the coordinates in the lat,lng columns\n",
    "    # Set the radius to 100 to make sure to cover all of the zipcodes included in our database\n",
    "    coordinates = search.by_coordinates(lat=lat, lng=lng, radius=100, returns=0)\n",
    "    # Append the lat,lng coordinates to coordinates_list\n",
    "    coordinates_list.append(coordinates)"
   ]
  },
  {
   "cell_type": "code",
   "execution_count": null,
   "metadata": {},
   "outputs": [],
   "source": [
    "# Use a list comprehension to unpack the rest of the values in \"result\" so you can choose the zipcodes to add to the dataframe\n",
    "#old code zipcode = [coordinates_list[i][0].items()[0][1] for i, x in enumerate(coordinates_list)]\n",
    "zipcode = [coordinates_list[i][0].items()[0][1] for i, x in enumerate(coordinates_list)]\n",
    "# Assign the zipcode values to the zip_code column in the dataframe\n",
    "clean_small['zip_code'] = zipcode\n",
    "# Preview the first 5 rows of the updated dataframe to confirm that the changes were made properly\n",
    "clean_small.head()"
   ]
  },
  {
   "cell_type": "code",
   "execution_count": null,
   "metadata": {},
   "outputs": [],
   "source": [
    "# Calculate number of stations in each zip code\n",
    "\n",
    "# Create a new dataframe with the columns zip_code, start_station_id, and end_station_id. This will be used to calculate the\n",
    "# number of stations in each zip code\n",
    "station_count_df = clean_small[['zip_code', 'start_station_id', 'end_station_id']]\n",
    "# Display the first few rows to confirm that the dataframe was created properly\n",
    "station_count_df.head()"
   ]
  },
  {
   "cell_type": "code",
   "execution_count": null,
   "metadata": {},
   "outputs": [],
   "source": [
    "# Calculate number of cities in each zip code\n",
    "\n",
    "# Create an empty list to append the zip_code values to\n",
    "city_by_zip_list = []\n",
    "\n",
    "# Loop through the zip_code column using enumerate to return an iterable object\n",
    "for i, zipcodes in enumerate(clean_small['zip_code']):\n",
    "    print(i, zipcodes)\n",
    "     # Find the zip code values using search.by_zipcode() from the uszipcode dependency\n",
    "    city_by_zip = search.by_zipcode(zipcode=zipcodes)\n",
    "    # Append the zip code values to the city_by_zip_list\n",
    "    city_by_zip_list.append(city_by_zip)\n",
    " "
   ]
  },
  {
   "cell_type": "code",
   "execution_count": null,
   "metadata": {},
   "outputs": [],
   "source": [
    "# Set a variable, unique_count, to a groupby() object as a base for calculating the number of stations in each zip code\n",
    "# Pass the zip_code column into groupby to count the number of stations grouped by each unique zip code\n",
    "# Use .size() to return the total number of elements\n",
    "# Use .reset_index() to recalculate the index for each row based upon their position within the new DataFrame. This will\n",
    " # enable simpler referencing of rows in the future\n",
    "# Pass the name argument in .reset_index() to assign a name to the column that will hold the values for the number of stations\n",
    " # in each zip code\n",
    "unique_count = station_count_df.groupby('zip_code').size().reset_index(name='num_stations_by_zip')\n",
    "# Display the dataframe to make sure it was created properly\n",
    "unique_count"
   ]
  },
  {
   "cell_type": "code",
   "execution_count": null,
   "metadata": {},
   "outputs": [],
   "source": [
    "# Calculate the length of the station_count_df dataframe and the sum of the values in the num_stations_by_zip to make sure they\n",
    "# match\n",
    "print(len(station_count_df))\n",
    "print(unique_count['num_stations_by_zip'].sum())"
   ]
  },
  {
   "cell_type": "code",
   "execution_count": null,
   "metadata": {},
   "outputs": [],
   "source": [
    "#change starttime column to pandas datetime\n",
    "clean_df['start_time']=pd.to_datetime(clean_df['start_time'])\n",
    "#add a column for Month\n",
    "clean_df['month'] = clean_df['start_time'].dt.month\n",
    "#use groupby to find the number of rides per month\n",
    "total_rides_month = clean_df.groupby('month').start_time.count()\n",
    "total_rides_month"
   ]
  },
  {
   "cell_type": "code",
   "execution_count": null,
   "metadata": {},
   "outputs": [],
   "source": [
    "# subset the clean_df for female, male and other\n",
    "female_df=clean_df.loc[clean_df['member_gender'] == 'Female']\n",
    "male_df=clean_df.loc[clean_df['member_gender'] == 'Male']\n",
    "other_df=clean_df.loc[clean_df['member_gender'] == 'Other']\n",
    "# find the total numbers of rides  per month for each gender group\n",
    "total_rides_fmonth = female_df.groupby('month').start_time.count()\n",
    "total_rides_mmonth = male_df.groupby('month').start_time.count()\n",
    "total_rides_omonth = other_df.groupby('month').start_time.count()"
   ]
  },
  {
   "cell_type": "code",
   "execution_count": null,
   "metadata": {},
   "outputs": [],
   "source": [
    "#plot the graph for \"RIDES TAKEN PER MONTH\"\n",
    "plt.plot(total_rides_month,'b', label = \"All Rides\")\n",
    "plt.plot(total_rides_fmonth,'r', label = \"Rides by Females\")\n",
    "plt.plot(total_rides_mmonth,'g', label = \"Rides by Males\")\n",
    "plt.plot(total_rides_omonth,'y', label = \"Rides by Other\")\n",
    "plt.legend()\n",
    "plt.title('RIDES TAKEN PER MONTH')\n",
    "plt.xlabel(\"Month of the Year\")\n",
    "plt.ylabel(\"Number of Rides\")\n",
    "plt.show()"
   ]
  },
  {
   "cell_type": "code",
   "execution_count": null,
   "metadata": {},
   "outputs": [],
   "source": []
  }
 ],
 "metadata": {
  "kernelspec": {
   "display_name": "Python 3",
   "language": "python",
   "name": "python3"
  },
  "language_info": {
   "codemirror_mode": {
    "name": "ipython",
    "version": 3
   },
   "file_extension": ".py",
   "mimetype": "text/x-python",
   "name": "python",
   "nbconvert_exporter": "python",
   "pygments_lexer": "ipython3",
   "version": "3.7.1"
  }
 },
 "nbformat": 4,
 "nbformat_minor": 2
}
